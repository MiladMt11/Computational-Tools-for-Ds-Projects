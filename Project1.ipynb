{
 "cells": [
  {
   "cell_type": "markdown",
   "metadata": {
    "id": "PlsPJUw7wCWZ"
   },
   "source": [
    "# 02807: Project 1\n",
    " \n",
    "## Practical information\n",
    " \n",
    "* This project must be completed in groups of 3 students.\n",
    "    * The group must be registered on the course site on DTU Learn: My Course > Groups\n",
    "* This project must be handed in as a jupyter notebook to the course site on DTU Learn. \n",
    "    * Go to the Course Content > Assignments tab to upload your submission. \n",
    "* This project is due on Monday, November 1, 20:00.\n",
    "\n",
    "## Submission rules\n",
    "\n",
    "* Each group has to hand in *one* notebook (`.ipynb`) with their solutions, including a filled out Contribution table (see below).\n",
    "* Your solution must be written in Python.\n",
    "* For each question you should use the cells provided (\"`# your code goes here`\") for your solution\n",
    "    * It is allowed to add code cells within a question block, but consider if it's really necessary.\n",
    "* You should not remove the problem statements, and you should not modify the structure of the notebook.\n",
    "* Your notebook should be runnable and readable from top to bottom.\n",
    "    * Meaning that your code cells work when run in order (from top to bottom).\n",
    "    * Output of any cell depends only on itself and cells above it.\n",
    "* Your notebook should be submitted after having been run from top to bottom.\n",
    "    * This means outputs are interpretable without necessarily running your cells.\n",
    "    * The simplest way to achieve this is using the jupyter menu item Kernel > Restart & Run All just prior to submission. If any cell fails when you do this, your notebook is not ready for submission.\n",
    "* Failure to comply may make it impossible for us to evaluate your submission properly, which will likely negatively impact the points awarded.\n",
    "    \n",
    " \n",
    "## Colaboration policy\n",
    " \n",
    "* It is not allowed to collaborate on the exercises with students outside your group, except for discussing the text of the exercise with teachers and fellow students enrolled on the course in the same semester. \n",
    "* It is not allowed to exchange, hand-over or in any other way communicate solutions or parts of solutions to the exercises. \n",
    "* It is not allowed to use solutions from similar courses, or solutions found elsewhere."
   ]
  },
  {
   "cell_type": "markdown",
   "metadata": {
    "id": "ZP30rwxHDQyG"
   },
   "source": [
    "## Contribution table and grading\n",
    "\n",
    "* The total amount of points in the project is 110.\n",
    "* You have to indicate who has solved each part of each exercise in a **contribution table**. \n",
    "* The following is an example of a contributions table:\n",
    "\n",
    "|        | Exercise 1 | Exercise 2 | Exercise 3 | Exercise 4 |\n",
    "|--------|------------|------------|------------|------------|\n",
    "| **Part 1** | John       |    Mary        |     Ann       |   Mary, Ann         |\n",
    "| **Part 2** |     Mary       |    Mary        |   Ann         |    John, Ann        |\n",
    "| **Part 3** |     John, Mary, Ann       |      John, Ann      |   John         | **n.a.**      |\n",
    "| **Part 4** | **n.a.**       |  Ann          |     John, Mary       | **n.a.**       |\n",
    "| **Part 5** | **n.a.**     | John, Mary, Ann           | John       | **n.a.**       |\n",
    "\n",
    "* A group member can take credit for solving a part of an exercise only if they have contributed **substantially** to the solution. \n",
    "    * Simple contributions, such as correcting a small bug or double-checking the results of functions, are not sufficient for taking credit for a solution.\n",
    "    * Several group members can take credit for the same solution if they all have contributed substantially to it.\n",
    "* Each group member must contribute **at least 50 points**. \n",
    "    * If no name is provided for an exercise's part, **all group members** are considered contributors to it.\n",
    "* Group members should decide amongst themselves how to collaborate on the project to meet the above-mentioned constraints.  \n",
    "* Scores are individual. The score $\\text{score}(m)$ for a group member $m$ ranges from 0 to 10 and is calculated as follows: \n",
    "\n",
    "  * $\\text{individual-score}(m) = \\frac{\\text{total number of points for the parts correctly solved by }m}{\\text{total number of points for the parts contributed by }m}$\n",
    "\n",
    "  * $\\text{group-score} = \\frac{\\text{total number of points correctly solved by any group member}}{\\text{total number of points in the project}}$\n",
    "\n",
    "  * $\\text{score}(m) =  7.5 \\cdot \\text{individual-score}(m) + 2.5 \\cdot \\text{group-score}$\n",
    "\n",
    "* **Example**: in the contribution table above, suppose that all parts are solved correctly except for those of Exercise 4, which are both wrong. Then Ann's score is calculated as follows:\n",
    "\n",
    "  * $\\text{individual-score}(Ann) = \\frac{2.5+12.5+12.5+2.5+15+5}{2.5+12.5+12.5+2.5+15+5 + 10 + 10} = \\frac{50}{70} = 0.714$\n",
    "\n",
    "  * $\\text{group-score} = \\frac{90}{110} = 0.818$\n",
    "\n",
    "  * $\\text{score}(Ann) = 7.5\\cdot 0.714 + 2.5 \\cdot 0.818 = 7.4$\n"
   ]
  },
  {
   "cell_type": "markdown",
   "metadata": {
    "id": "vklet8XdRGVV"
   },
   "source": [
    "# Group declaration table \n",
    "\n",
    "This table must be filled before submission.\n",
    "\n"
   ]
  },
  {
   "cell_type": "code",
   "execution_count": 1,
   "metadata": {
    "ExecuteTime": {
     "end_time": "2021-09-27T15:03:19.791917Z",
     "start_time": "2021-09-27T15:03:19.764408Z"
    },
    "colab": {
     "base_uri": "https://localhost:8080/",
     "height": 204
    },
    "id": "chiXA3CzRSA1",
    "outputId": "24da12f2-a81b-4cf6-c508-54a85ee28f44"
   },
   "outputs": [
    {
     "data": {
      "text/html": [
       "<div>\n",
       "<style scoped>\n",
       "    .dataframe tbody tr th:only-of-type {\n",
       "        vertical-align: middle;\n",
       "    }\n",
       "\n",
       "    .dataframe tbody tr th {\n",
       "        vertical-align: top;\n",
       "    }\n",
       "\n",
       "    .dataframe thead th {\n",
       "        text-align: right;\n",
       "    }\n",
       "</style>\n",
       "<table border=\"1\" class=\"dataframe\">\n",
       "  <thead>\n",
       "    <tr style=\"text-align: right;\">\n",
       "      <th></th>\n",
       "      <th>Exercise 1</th>\n",
       "      <th>Exercise 2</th>\n",
       "      <th>Exercise 3</th>\n",
       "      <th>Exercise 4</th>\n",
       "    </tr>\n",
       "  </thead>\n",
       "  <tbody>\n",
       "    <tr>\n",
       "      <th>Part 1</th>\n",
       "      <td>All</td>\n",
       "      <td>Rune</td>\n",
       "      <td>Connor, Milad</td>\n",
       "      <td>Rune</td>\n",
       "    </tr>\n",
       "    <tr>\n",
       "      <th>Part 2</th>\n",
       "      <td>Rune</td>\n",
       "      <td>Rune</td>\n",
       "      <td>Connor, Milad</td>\n",
       "      <td>Rune</td>\n",
       "    </tr>\n",
       "    <tr>\n",
       "      <th>Part 3</th>\n",
       "      <td>Connor, Milad</td>\n",
       "      <td>Rune</td>\n",
       "      <td>Connor, Milad</td>\n",
       "      <td></td>\n",
       "    </tr>\n",
       "    <tr>\n",
       "      <th>Part 4</th>\n",
       "      <td></td>\n",
       "      <td>Connor, Milad</td>\n",
       "      <td>Connor, Milad</td>\n",
       "      <td></td>\n",
       "    </tr>\n",
       "    <tr>\n",
       "      <th>Part 5</th>\n",
       "      <td></td>\n",
       "      <td>Connor, Milad</td>\n",
       "      <td>Connor, Milad</td>\n",
       "      <td></td>\n",
       "    </tr>\n",
       "  </tbody>\n",
       "</table>\n",
       "</div>"
      ],
      "text/plain": [
       "           Exercise 1     Exercise 2     Exercise 3 Exercise 4\n",
       "Part 1            All           Rune  Connor, Milad       Rune\n",
       "Part 2           Rune           Rune  Connor, Milad       Rune\n",
       "Part 3  Connor, Milad           Rune  Connor, Milad           \n",
       "Part 4                 Connor, Milad  Connor, Milad           \n",
       "Part 5                 Connor, Milad  Connor, Milad           "
      ]
     },
     "execution_count": 1,
     "metadata": {},
     "output_type": "execute_result"
    }
   ],
   "source": [
    "import pandas as pd\n",
    "\n",
    "d = {'Exercise 1' : [\"All\", \"Rune\", \"Connor, Milad\", \"\", \"\"], \n",
    "     'Exercise 2' : [\"Rune\", \"Rune\",\"Rune\", \"Connor, Milad\", \"Connor, Milad\"],\n",
    "     'Exercise 3' : [\"Connor, Milad\", \"Connor, Milad\", \"Connor, Milad\", \"Connor, Milad\", \"Connor, Milad\"], \n",
    "     'Exercise 4' : [\"Rune\", \"Rune\", \"\", \"\", \"\"],\n",
    "     } \n",
    "  \n",
    "ct = pd.DataFrame(d, index =['Part 1','Part 2','Part 3','Part 4','Part 5']) \n",
    "\n",
    "ct"
   ]
  },
  {
   "cell_type": "markdown",
   "metadata": {
    "_uuid": "d7aa1b0ad6979877450f9cd89e1e37289b51cf6e",
    "id": "CF8tC7Z8CgbW"
   },
   "source": [
    "# Introduction to the Datasets"
   ]
  },
  {
   "cell_type": "markdown",
   "metadata": {
    "id": "pO8N4lj29u9w"
   },
   "source": [
    "![link text](https://ph-files.imgix.net/069dd825-cddf-4048-adde-8e81396c2c68?auto=format)\n",
    "\n",
    "\n",
    "You will be working with datasets obtained through the [The Movie Database (TMDb) API](https://developers.themoviedb.org/3/getting-started/introduction). The first dataset is part of the MovieLens Latest Full Dataset, comprising 26 million ratings on 45.000 movies from 27.000 users. Let's look at the features in this dataset.\n",
    "\n",
    "**Features**\n",
    "\n",
    "* **adult**: Indicates if the movie is X-Rated.\n",
    "* **belongs_to_collection**: A stringified dictionary with info on the movie series a particular film belongs to (e.g.: Lord of the Rings).\n",
    "* **budget**: The movie budget in dollars.\n",
    "* **genres**: A stringified list of dictionaries describing all genres associated with the movie.\n",
    "* **homepage**: The movie's official homepage.\n",
    "* **id**: An identifier for the movie.\n",
    "* **imdb_id**: IMDB's identifier for the movie.\n",
    "* **original_language**: The language in which the movie was shot.\n",
    "* **original_title**: The original title of the movie.\n",
    "* **overview**: A brief text about the movie.\n",
    "* **popularity**: A Popularity Score given by TMDb.\n",
    "* **poster_path**: The URL of the poster image.\n",
    "* **production_companies**: A stringified list of production companies involved with making of the movie.\n",
    "* **production_countries**: A stringified list of countries in which the movie was produced.\n",
    "* **release_date**: Release date of the movie in theaters.\n",
    "* **revenue**: The total revenue of the movie in dollars.\n",
    "* **runtime**: The runtime of the movie in minutes.\n",
    "* **spoken_languages**: A stringified list of languages spoken in the film.\n",
    "* **status**: The status of the movie (Released, To Be Released, etc.)\n",
    "* **tagline**: The movie's tagline.\n",
    "* **title**: The official title of the movie.\n",
    "* **video**: Indicates whether there is a video of the movie in TMDb.\n",
    "* **vote_average**: The average rating of the movie, on a 0-10 scale.\n",
    "* **vote_count**: The number of votes by users, as counted by TMDb."
   ]
  },
  {
   "cell_type": "markdown",
   "metadata": {
    "_uuid": "6b418588e3f9139f74cb3a9546f5dca49729579b",
    "id": "2Clue5Z_Cgbc"
   },
   "source": [
    "# Imports\n",
    "\n",
    "First, let's make sure to import Pandas and NumPy. "
   ]
  },
  {
   "cell_type": "code",
   "execution_count": 2,
   "metadata": {
    "ExecuteTime": {
     "end_time": "2021-09-27T10:09:32.802462Z",
     "start_time": "2021-09-27T10:09:30.598648Z"
    },
    "id": "A0K3Aw3eAf2B"
   },
   "outputs": [],
   "source": [
    "import pandas as pd \n",
    "import numpy as np\n",
    "from ast import literal_eval"
   ]
  },
  {
   "cell_type": "markdown",
   "metadata": {
    "id": "PFlHk-e0BZME"
   },
   "source": [
    "# Exercise 1: Loading, preprocessing and cleaning the data (15 points)"
   ]
  },
  {
   "cell_type": "markdown",
   "metadata": {
    "id": "mGJnqtQD1BOs"
   },
   "source": [
    "Read the movie dataset from the following URL."
   ]
  },
  {
   "cell_type": "code",
   "execution_count": 3,
   "metadata": {
    "ExecuteTime": {
     "end_time": "2021-09-27T10:09:34.147572Z",
     "start_time": "2021-09-27T10:09:34.145160Z"
    },
    "id": "sQb46KRIAkOB"
   },
   "outputs": [],
   "source": [
    "url = 'http://courses.compute.dtu.dk/02807/2021/projects/project1/movies_metadata.csv'"
   ]
  },
  {
   "cell_type": "markdown",
   "metadata": {
    "id": "jQrm5PleClKz"
   },
   "source": [
    "## Part 1: Reading and preprocessing the data (10 pts)\n",
    "\n",
    "Pandas infers a data type for raw data from a `.csv`, defaulting to string type when no other `dtype` could be established. For example, the `genres` column in our dataset is read as a string with a *stringified* list of dictionaries as cell content. \n",
    "\n",
    "Some preprocessing steps are therefore needed, to convert the columns into their proper data types.\n",
    "\n",
    "Write a function `load_movies_data()` that reads the URL into a Pandas DataFrame and preprocesses its columns to ensure that:\n",
    "\n",
    "1. Data in the `release_date` column consists of Pandas `Timestamp` objects, except for missing values. For example, executing a code cell with `df.release_date[0]` should display the output `Timestamp('1995-10-30 00:00:00')`.\n",
    "\n",
    "2. Data in `belongs_to_collection` consists of dictionaries, except for missing values.\n",
    "\n",
    "3. Data in `genres`, `production_companies` and `production_countries` consists of lists of dictionaries, except for missing values. \n",
    "\n",
    "For example, executing a code cell with `df.genres[0]` should display the output \n",
    "```\n",
    "[{'id': 16, 'name': 'Animation'},\n",
    " {'id': 35, 'name': 'Comedy'},\n",
    " {'id': 10751, 'name': 'Family'}]\n",
    "```\n",
    "which is a list type, not a string. The elements of the list are dictionaries (executing `df.genres[0][0]['name']` returns `'Animation'`). \n",
    "\n",
    "**Hint**: for items 2 and 3, you should use `ast.literal_eval`.\n",
    "\n",
    "These conversions can be performed using Pandas' built-in functions and/or calling Pandas' `apply()` with appropriate arguments. Avoid explicit looping. You'll be asked below to time the loading and preprocessing step. "
   ]
  },
  {
   "cell_type": "code",
   "execution_count": 4,
   "metadata": {
    "id": "2mC5hjGXJTZ0"
   },
   "outputs": [],
   "source": [
    "def load_movies_data(url):\n",
    "    df = pd.read_csv(url, low_memory=False)\n",
    "\n",
    "    # Changing release_date from type string to datetime type\n",
    "    df.release_date = pd.to_datetime(df.release_date, errors='coerce')\n",
    "    #checking type \n",
    "    print('Is release_date of type pd.Timestamp:', type(df.release_date[0])==pd.Timestamp) \n",
    "\n",
    "    # Change the items in belongs to collection to dictionary unless they are null\n",
    "    df.belongs_to_collection = df.belongs_to_collection.dropna().apply(literal_eval)\n",
    "    print('Is belongs_to_collection of type dict:', type(df.belongs_to_collection[0])==dict) \n",
    "    \n",
    "    # Change production_companies to list\n",
    "    df.production_companies = df.production_companies.dropna().apply(literal_eval)\n",
    "    print('Is production_companies of type list:', type(df.production_companies[0])==list)\n",
    "\n",
    "    # Change production_companies to list\n",
    "    df.production_countries = df.production_countries.dropna().apply(literal_eval)\n",
    "    print('Is production_countries of type list:', type(df.production_countries[0])==list)\n",
    "\n",
    "    # Change the type of genres\n",
    "    df.genres = df.genres.apply(literal_eval)\n",
    "    print('Is genres of type list:', type(df.genres[0])==list) \n",
    "\n",
    "    return df"
   ]
  },
  {
   "cell_type": "markdown",
   "metadata": {
    "id": "oZvSPPdzfScL"
   },
   "source": [
    "Now call `load_movies_data()` and load the data into a DataFrame `df`."
   ]
  },
  {
   "cell_type": "code",
   "execution_count": 5,
   "metadata": {
    "colab": {
     "base_uri": "https://localhost:8080/"
    },
    "id": "4-eOSqlhD-8J",
    "outputId": "b964298b-5eed-45d3-bbef-7d7effd288d5"
   },
   "outputs": [
    {
     "name": "stdout",
     "output_type": "stream",
     "text": [
      "Is release_date of type pd.Timestamp: True\n",
      "Is belongs_to_collection of type dict: True\n",
      "Is production_companies of type list: True\n",
      "Is production_countries of type list: True\n",
      "Is genres of type list: True\n"
     ]
    }
   ],
   "source": [
    "df = load_movies_data(url)"
   ]
  },
  {
   "cell_type": "markdown",
   "metadata": {
    "id": "bnelY1bZzj-J"
   },
   "source": [
    "Display the DataFrame. You should check that it looks correct."
   ]
  },
  {
   "cell_type": "code",
   "execution_count": 6,
   "metadata": {
    "colab": {
     "base_uri": "https://localhost:8080/",
     "height": 666
    },
    "id": "-iAp_S6hNez4",
    "outputId": "7c03caa2-8a63-432b-86ca-625df69773b4"
   },
   "outputs": [
    {
     "data": {
      "text/html": [
       "<div>\n",
       "<style scoped>\n",
       "    .dataframe tbody tr th:only-of-type {\n",
       "        vertical-align: middle;\n",
       "    }\n",
       "\n",
       "    .dataframe tbody tr th {\n",
       "        vertical-align: top;\n",
       "    }\n",
       "\n",
       "    .dataframe thead th {\n",
       "        text-align: right;\n",
       "    }\n",
       "</style>\n",
       "<table border=\"1\" class=\"dataframe\">\n",
       "  <thead>\n",
       "    <tr style=\"text-align: right;\">\n",
       "      <th></th>\n",
       "      <th>adult</th>\n",
       "      <th>belongs_to_collection</th>\n",
       "      <th>budget</th>\n",
       "      <th>genres</th>\n",
       "      <th>homepage</th>\n",
       "      <th>id</th>\n",
       "      <th>imdb_id</th>\n",
       "      <th>original_language</th>\n",
       "      <th>original_title</th>\n",
       "      <th>overview</th>\n",
       "      <th>...</th>\n",
       "      <th>release_date</th>\n",
       "      <th>revenue</th>\n",
       "      <th>runtime</th>\n",
       "      <th>spoken_languages</th>\n",
       "      <th>status</th>\n",
       "      <th>tagline</th>\n",
       "      <th>title</th>\n",
       "      <th>video</th>\n",
       "      <th>vote_average</th>\n",
       "      <th>vote_count</th>\n",
       "    </tr>\n",
       "  </thead>\n",
       "  <tbody>\n",
       "    <tr>\n",
       "      <th>0</th>\n",
       "      <td>False</td>\n",
       "      <td>{'id': 10194, 'name': 'Toy Story Collection', ...</td>\n",
       "      <td>30000000</td>\n",
       "      <td>[{'id': 16, 'name': 'Animation'}, {'id': 35, '...</td>\n",
       "      <td>http://toystory.disney.com/toy-story</td>\n",
       "      <td>862</td>\n",
       "      <td>tt0114709</td>\n",
       "      <td>en</td>\n",
       "      <td>Toy Story</td>\n",
       "      <td>Led by Woody, Andy's toys live happily in his ...</td>\n",
       "      <td>...</td>\n",
       "      <td>1995-10-30</td>\n",
       "      <td>373554033.0</td>\n",
       "      <td>81.0</td>\n",
       "      <td>[{'iso_639_1': 'en', 'name': 'English'}]</td>\n",
       "      <td>Released</td>\n",
       "      <td>NaN</td>\n",
       "      <td>Toy Story</td>\n",
       "      <td>False</td>\n",
       "      <td>7.7</td>\n",
       "      <td>5415.0</td>\n",
       "    </tr>\n",
       "    <tr>\n",
       "      <th>1</th>\n",
       "      <td>False</td>\n",
       "      <td>NaN</td>\n",
       "      <td>65000000</td>\n",
       "      <td>[{'id': 12, 'name': 'Adventure'}, {'id': 14, '...</td>\n",
       "      <td>NaN</td>\n",
       "      <td>8844</td>\n",
       "      <td>tt0113497</td>\n",
       "      <td>en</td>\n",
       "      <td>Jumanji</td>\n",
       "      <td>When siblings Judy and Peter discover an encha...</td>\n",
       "      <td>...</td>\n",
       "      <td>1995-12-15</td>\n",
       "      <td>262797249.0</td>\n",
       "      <td>104.0</td>\n",
       "      <td>[{'iso_639_1': 'en', 'name': 'English'}, {'iso...</td>\n",
       "      <td>Released</td>\n",
       "      <td>Roll the dice and unleash the excitement!</td>\n",
       "      <td>Jumanji</td>\n",
       "      <td>False</td>\n",
       "      <td>6.9</td>\n",
       "      <td>2413.0</td>\n",
       "    </tr>\n",
       "    <tr>\n",
       "      <th>2</th>\n",
       "      <td>False</td>\n",
       "      <td>{'id': 119050, 'name': 'Grumpy Old Men Collect...</td>\n",
       "      <td>0</td>\n",
       "      <td>[{'id': 10749, 'name': 'Romance'}, {'id': 35, ...</td>\n",
       "      <td>NaN</td>\n",
       "      <td>15602</td>\n",
       "      <td>tt0113228</td>\n",
       "      <td>en</td>\n",
       "      <td>Grumpier Old Men</td>\n",
       "      <td>A family wedding reignites the ancient feud be...</td>\n",
       "      <td>...</td>\n",
       "      <td>1995-12-22</td>\n",
       "      <td>0.0</td>\n",
       "      <td>101.0</td>\n",
       "      <td>[{'iso_639_1': 'en', 'name': 'English'}]</td>\n",
       "      <td>Released</td>\n",
       "      <td>Still Yelling. Still Fighting. Still Ready for...</td>\n",
       "      <td>Grumpier Old Men</td>\n",
       "      <td>False</td>\n",
       "      <td>6.5</td>\n",
       "      <td>92.0</td>\n",
       "    </tr>\n",
       "    <tr>\n",
       "      <th>3</th>\n",
       "      <td>False</td>\n",
       "      <td>NaN</td>\n",
       "      <td>16000000</td>\n",
       "      <td>[{'id': 35, 'name': 'Comedy'}, {'id': 18, 'nam...</td>\n",
       "      <td>NaN</td>\n",
       "      <td>31357</td>\n",
       "      <td>tt0114885</td>\n",
       "      <td>en</td>\n",
       "      <td>Waiting to Exhale</td>\n",
       "      <td>Cheated on, mistreated and stepped on, the wom...</td>\n",
       "      <td>...</td>\n",
       "      <td>1995-12-22</td>\n",
       "      <td>81452156.0</td>\n",
       "      <td>127.0</td>\n",
       "      <td>[{'iso_639_1': 'en', 'name': 'English'}]</td>\n",
       "      <td>Released</td>\n",
       "      <td>Friends are the people who let you be yourself...</td>\n",
       "      <td>Waiting to Exhale</td>\n",
       "      <td>False</td>\n",
       "      <td>6.1</td>\n",
       "      <td>34.0</td>\n",
       "    </tr>\n",
       "    <tr>\n",
       "      <th>4</th>\n",
       "      <td>False</td>\n",
       "      <td>{'id': 96871, 'name': 'Father of the Bride Col...</td>\n",
       "      <td>0</td>\n",
       "      <td>[{'id': 35, 'name': 'Comedy'}]</td>\n",
       "      <td>NaN</td>\n",
       "      <td>11862</td>\n",
       "      <td>tt0113041</td>\n",
       "      <td>en</td>\n",
       "      <td>Father of the Bride Part II</td>\n",
       "      <td>Just when George Banks has recovered from his ...</td>\n",
       "      <td>...</td>\n",
       "      <td>1995-02-10</td>\n",
       "      <td>76578911.0</td>\n",
       "      <td>106.0</td>\n",
       "      <td>[{'iso_639_1': 'en', 'name': 'English'}]</td>\n",
       "      <td>Released</td>\n",
       "      <td>Just When His World Is Back To Normal... He's ...</td>\n",
       "      <td>Father of the Bride Part II</td>\n",
       "      <td>False</td>\n",
       "      <td>5.7</td>\n",
       "      <td>173.0</td>\n",
       "    </tr>\n",
       "  </tbody>\n",
       "</table>\n",
       "<p>5 rows × 24 columns</p>\n",
       "</div>"
      ],
      "text/plain": [
       "   adult                              belongs_to_collection    budget  \\\n",
       "0  False  {'id': 10194, 'name': 'Toy Story Collection', ...  30000000   \n",
       "1  False                                                NaN  65000000   \n",
       "2  False  {'id': 119050, 'name': 'Grumpy Old Men Collect...         0   \n",
       "3  False                                                NaN  16000000   \n",
       "4  False  {'id': 96871, 'name': 'Father of the Bride Col...         0   \n",
       "\n",
       "                                              genres  \\\n",
       "0  [{'id': 16, 'name': 'Animation'}, {'id': 35, '...   \n",
       "1  [{'id': 12, 'name': 'Adventure'}, {'id': 14, '...   \n",
       "2  [{'id': 10749, 'name': 'Romance'}, {'id': 35, ...   \n",
       "3  [{'id': 35, 'name': 'Comedy'}, {'id': 18, 'nam...   \n",
       "4                     [{'id': 35, 'name': 'Comedy'}]   \n",
       "\n",
       "                               homepage     id    imdb_id original_language  \\\n",
       "0  http://toystory.disney.com/toy-story    862  tt0114709                en   \n",
       "1                                   NaN   8844  tt0113497                en   \n",
       "2                                   NaN  15602  tt0113228                en   \n",
       "3                                   NaN  31357  tt0114885                en   \n",
       "4                                   NaN  11862  tt0113041                en   \n",
       "\n",
       "                original_title  \\\n",
       "0                    Toy Story   \n",
       "1                      Jumanji   \n",
       "2             Grumpier Old Men   \n",
       "3            Waiting to Exhale   \n",
       "4  Father of the Bride Part II   \n",
       "\n",
       "                                            overview  ... release_date  \\\n",
       "0  Led by Woody, Andy's toys live happily in his ...  ...   1995-10-30   \n",
       "1  When siblings Judy and Peter discover an encha...  ...   1995-12-15   \n",
       "2  A family wedding reignites the ancient feud be...  ...   1995-12-22   \n",
       "3  Cheated on, mistreated and stepped on, the wom...  ...   1995-12-22   \n",
       "4  Just when George Banks has recovered from his ...  ...   1995-02-10   \n",
       "\n",
       "       revenue runtime                                   spoken_languages  \\\n",
       "0  373554033.0    81.0           [{'iso_639_1': 'en', 'name': 'English'}]   \n",
       "1  262797249.0   104.0  [{'iso_639_1': 'en', 'name': 'English'}, {'iso...   \n",
       "2          0.0   101.0           [{'iso_639_1': 'en', 'name': 'English'}]   \n",
       "3   81452156.0   127.0           [{'iso_639_1': 'en', 'name': 'English'}]   \n",
       "4   76578911.0   106.0           [{'iso_639_1': 'en', 'name': 'English'}]   \n",
       "\n",
       "     status                                            tagline  \\\n",
       "0  Released                                                NaN   \n",
       "1  Released          Roll the dice and unleash the excitement!   \n",
       "2  Released  Still Yelling. Still Fighting. Still Ready for...   \n",
       "3  Released  Friends are the people who let you be yourself...   \n",
       "4  Released  Just When His World Is Back To Normal... He's ...   \n",
       "\n",
       "                         title  video vote_average vote_count  \n",
       "0                    Toy Story  False          7.7     5415.0  \n",
       "1                      Jumanji  False          6.9     2413.0  \n",
       "2             Grumpier Old Men  False          6.5       92.0  \n",
       "3            Waiting to Exhale  False          6.1       34.0  \n",
       "4  Father of the Bride Part II  False          5.7      173.0  \n",
       "\n",
       "[5 rows x 24 columns]"
      ]
     },
     "execution_count": 6,
     "metadata": {},
     "output_type": "execute_result"
    }
   ],
   "source": [
    "df.head(5)"
   ]
  },
  {
   "cell_type": "markdown",
   "metadata": {
    "id": "PuzjOV7ffbpR"
   },
   "source": [
    "## Part 2: Timing your function (2.5 pts)\n",
    "\n",
    "Time the performance of your function. To get the points for this part, the time reported below must not exceed 40 seconds."
   ]
  },
  {
   "cell_type": "code",
   "execution_count": 7,
   "metadata": {
    "colab": {
     "base_uri": "https://localhost:8080/"
    },
    "id": "aIYWL17bO2Ih",
    "outputId": "45a827fd-1ab9-41e0-ca71-813adb5adf71"
   },
   "outputs": [
    {
     "name": "stdout",
     "output_type": "stream",
     "text": [
      "Is release_date of type pd.Timestamp: True\n",
      "Is belongs_to_collection of type dict: True\n",
      "Is production_companies of type list: True\n",
      "Is production_countries of type list: True\n",
      "Is genres of type list: True\n",
      "Is release_date of type pd.Timestamp: True\n",
      "Is belongs_to_collection of type dict: True\n",
      "Is production_companies of type list: True\n",
      "Is production_countries of type list: True\n",
      "Is genres of type list: True\n",
      "Is release_date of type pd.Timestamp: True\n",
      "Is belongs_to_collection of type dict: True\n",
      "Is production_companies of type list: True\n",
      "Is production_countries of type list: True\n",
      "Is genres of type list: True\n",
      "Is release_date of type pd.Timestamp: True\n",
      "Is belongs_to_collection of type dict: True\n",
      "Is production_companies of type list: True\n",
      "Is production_countries of type list: True\n",
      "Is genres of type list: True\n",
      "11.3 s ± 1.83 s per loop (mean ± std. dev. of 3 runs, 1 loop each)\n",
      "\n",
      "Time (s): 9.532751\n"
     ]
    }
   ],
   "source": [
    "load_time = %timeit -o -r 3 load_movies_data(url)\n",
    "print(\"\\nTime (s): {0:3f}\".format(load_time.best))"
   ]
  },
  {
   "cell_type": "markdown",
   "metadata": {
    "id": "7sVQeTkLYI2b"
   },
   "source": [
    "## Part 3: Cleaning the data (2.5 pts)"
   ]
  },
  {
   "cell_type": "markdown",
   "metadata": {
    "id": "6ydbZ-KFYlRX"
   },
   "source": [
    "Filter/drop all rows in `df` meeting any of these conditions:\n",
    "* The `adult` value is not `'False'`\n",
    "* The `vote_count` value is missing\n",
    "* The `vote_average` value is missing\n",
    "\n",
    "Do not loop over rows to perform these checks. Use Pandas' built-in functionality to do so. "
   ]
  },
  {
   "cell_type": "code",
   "execution_count": 8,
   "metadata": {
    "id": "Qtb7AaaVY5nm"
   },
   "outputs": [],
   "source": [
    "df['adult'] = df['adult'].map({'True': True,'False': False})\n",
    "df = df[df['adult'] == False]\n",
    "df = df[df['vote_count'].isnull()==False]\n",
    "df = df[df['vote_average'].isnull()==False] #vote_average is missing in the same rows in which vote_count is missing"
   ]
  },
  {
   "cell_type": "markdown",
   "metadata": {
    "id": "mT8jdILukiBF"
   },
   "source": [
    "# Exercise 2: Computing IMDb's ratings (35 points)"
   ]
  },
  {
   "cell_type": "markdown",
   "metadata": {
    "id": "84SE_eMzkyC1"
   },
   "source": [
    "The Top Rated 250 titles in IMDb are calculated using [a formula](https://help.imdb.com/article/imdb/track-movies-tv/ratings-faq/G67Y87TFYYP6TWAV#calculatetop) that takes into account the number of votes that a title has received, the minimum votes required to be on the list, and the mean vote for all titles. The rating for a title is given as follows:\n",
    "\n",
    "$$ \\text{weighted rating } = \\left(\\frac{v}{v+m} \\cdot R\\right) + \\left(\\frac{m}{v+m} \\cdot C\\right)$$\n",
    "\n",
    "Where:\n",
    "\n",
    "$m$ = the minimum number of votes required to be listed in the Top Rated ranking. We'll let $m=1000$.\n",
    "\n",
    "$v$ = the number of votes received by the title (the title's **`vote_count`** value)\n",
    "\n",
    "$R$ = the average rating for the title (the title's **`vote_average`** value)\n",
    "\n",
    "$C$ = the mean vote across the whole list (the mean over the **`vote_average`** column)"
   ]
  },
  {
   "cell_type": "markdown",
   "metadata": {
    "id": "85J4HDO2rieA"
   },
   "source": [
    "We are going to compute the ratings for movies that could be listed in IMDb's Top Rated 250 ranking.  We want to do this as efficiently as possible. As a baseline for benchmarking, we'll use an approach that explicitly loops and indexes over the rows of the dataset and computes the weighted rating for the corresponding movie (if the movie has more than 1000 votes). "
   ]
  },
  {
   "cell_type": "code",
   "execution_count": 9,
   "metadata": {
    "ExecuteTime": {
     "end_time": "2021-09-27T10:27:52.905697Z",
     "start_time": "2021-09-27T10:27:52.800529Z"
    },
    "id": "MyYhLdBksTec"
   },
   "outputs": [],
   "source": [
    "C = df['vote_average'].mean()\n",
    "m = 1000\n",
    "\n",
    "def weighted_rating(row):\n",
    "    if row['vote_count'] > m:\n",
    "        v = row['vote_count']\n",
    "        R = row['vote_average']\n",
    "        return (v/(v+m) * R) + (m/(v+m) * C)\n",
    "    else:\n",
    "        return np.nan\n",
    "\n",
    "def weighted_rating_loop(df):\n",
    "    rating_list = []\n",
    "    for i in range(len(df)):\n",
    "        rating = weighted_rating(df.iloc[i])\n",
    "        rating_list.append(rating)\n",
    "    df['imdb_rating'] = rating_list"
   ]
  },
  {
   "cell_type": "code",
   "execution_count": 10,
   "metadata": {
    "colab": {
     "base_uri": "https://localhost:8080/",
     "height": 204
    },
    "id": "JIsei1w4r9Jz",
    "outputId": "da3cb94a-04b4-4dd1-907b-047542a70060"
   },
   "outputs": [
    {
     "data": {
      "text/html": [
       "<div>\n",
       "<style scoped>\n",
       "    .dataframe tbody tr th:only-of-type {\n",
       "        vertical-align: middle;\n",
       "    }\n",
       "\n",
       "    .dataframe tbody tr th {\n",
       "        vertical-align: top;\n",
       "    }\n",
       "\n",
       "    .dataframe thead th {\n",
       "        text-align: right;\n",
       "    }\n",
       "</style>\n",
       "<table border=\"1\" class=\"dataframe\">\n",
       "  <thead>\n",
       "    <tr style=\"text-align: right;\">\n",
       "      <th></th>\n",
       "      <th>id</th>\n",
       "      <th>original_title</th>\n",
       "      <th>imdb_rating</th>\n",
       "    </tr>\n",
       "  </thead>\n",
       "  <tbody>\n",
       "    <tr>\n",
       "      <th>0</th>\n",
       "      <td>862</td>\n",
       "      <td>Toy Story</td>\n",
       "      <td>7.375533</td>\n",
       "    </tr>\n",
       "    <tr>\n",
       "      <th>1</th>\n",
       "      <td>8844</td>\n",
       "      <td>Jumanji</td>\n",
       "      <td>6.524536</td>\n",
       "    </tr>\n",
       "    <tr>\n",
       "      <th>2</th>\n",
       "      <td>15602</td>\n",
       "      <td>Grumpier Old Men</td>\n",
       "      <td>NaN</td>\n",
       "    </tr>\n",
       "    <tr>\n",
       "      <th>3</th>\n",
       "      <td>31357</td>\n",
       "      <td>Waiting to Exhale</td>\n",
       "      <td>NaN</td>\n",
       "    </tr>\n",
       "    <tr>\n",
       "      <th>4</th>\n",
       "      <td>11862</td>\n",
       "      <td>Father of the Bride Part II</td>\n",
       "      <td>NaN</td>\n",
       "    </tr>\n",
       "  </tbody>\n",
       "</table>\n",
       "</div>"
      ],
      "text/plain": [
       "      id               original_title  imdb_rating\n",
       "0    862                    Toy Story     7.375533\n",
       "1   8844                      Jumanji     6.524536\n",
       "2  15602             Grumpier Old Men          NaN\n",
       "3  31357            Waiting to Exhale          NaN\n",
       "4  11862  Father of the Bride Part II          NaN"
      ]
     },
     "execution_count": 10,
     "metadata": {},
     "output_type": "execute_result"
    }
   ],
   "source": [
    "weighted_rating_loop(df)\n",
    "\n",
    "columns_to_show = ['id', 'original_title'] + \\\n",
    "                  list(df.columns[df.columns.str.startswith('imdb_rating')])\n",
    "df[columns_to_show].head()"
   ]
  },
  {
   "cell_type": "markdown",
   "metadata": {
    "id": "JdlffrsJyHvI"
   },
   "source": [
    "Let's look at the average performance of this function:"
   ]
  },
  {
   "cell_type": "code",
   "execution_count": 11,
   "metadata": {
    "colab": {
     "base_uri": "https://localhost:8080/"
    },
    "id": "su__dMpZyX5W",
    "outputId": "7254d05e-6e8d-48e7-9032-9bc608d1d436"
   },
   "outputs": [
    {
     "name": "stdout",
     "output_type": "stream",
     "text": [
      "5.54 s ± 34.7 ms per loop (mean ± std. dev. of 3 runs, 1 loop each)\n",
      "Best time: 5.505553436\n"
     ]
    }
   ],
   "source": [
    "basic_time = %timeit -r 3 -o weighted_rating_loop(df)\n",
    "print(\"Best time:\", basic_time.best)"
   ]
  },
  {
   "cell_type": "markdown",
   "metadata": {
    "id": "HPjyKJ2zzPoQ"
   },
   "source": [
    "In the remaining parts of the exercise, you are going to be asked to come up with alternative ways to compute the ratings, using various methodologies. Let's create a score board to keep track of performance. Here's a description of the rows:\n",
    "\n",
    "*   **Best single run time (s)**:  The best time used by your solution, in seconds.\n",
    "*   **Marginal performance improvement**: The time improvement of your current solution over its immediately preceding solution. Given by: $\\frac{\\text{best single run time (s) of previous solution}}{\\text{best single run time (s) of current solution}}$\n",
    "*   **Performance improvement over basic looping**:  The time improvement over our baseline solution. Given by: $\\frac{\\text{best single run time (s) of weighted_rating_loop}}{\\text{best single run time (s) of current solution}}$\n",
    "*   **Best single run time (s, teacher)**: The time of a solution provided by the teacher. \n",
    "*   **Marginal performance improvement (teacher)**: The time improvement of the teacher's solution over its immediately preceding solution. \n",
    "*   **Performance improvement over basic looping (teacher)**:  The teacher's solution improvement over the baseline solution.\n",
    "\n"
   ]
  },
  {
   "cell_type": "code",
   "execution_count": 12,
   "metadata": {
    "ExecuteTime": {
     "end_time": "2021-09-27T11:03:14.455052Z",
     "start_time": "2021-09-27T11:03:14.442251Z"
    },
    "colab": {
     "base_uri": "https://localhost:8080/",
     "height": 232
    },
    "id": "fV-xfrs53NBF",
    "outputId": "5cc1aeb7-abc5-4e5d-f60b-766d86c8b610"
   },
   "outputs": [
    {
     "data": {
      "text/html": [
       "<div>\n",
       "<style scoped>\n",
       "    .dataframe tbody tr th:only-of-type {\n",
       "        vertical-align: middle;\n",
       "    }\n",
       "\n",
       "    .dataframe tbody tr th {\n",
       "        vertical-align: top;\n",
       "    }\n",
       "\n",
       "    .dataframe thead th {\n",
       "        text-align: right;\n",
       "    }\n",
       "</style>\n",
       "<table border=\"1\" class=\"dataframe\">\n",
       "  <thead>\n",
       "    <tr style=\"text-align: right;\">\n",
       "      <th></th>\n",
       "      <th>Best single run time (s)</th>\n",
       "      <th>Marginal performance improvement</th>\n",
       "      <th>Performance improvement over basic looping</th>\n",
       "      <th>Best single run time (s, teacher)</th>\n",
       "      <th>Marginal performance improvement (teacher)</th>\n",
       "      <th>Performance improvement over basic looping (teacher)</th>\n",
       "    </tr>\n",
       "  </thead>\n",
       "  <tbody>\n",
       "    <tr>\n",
       "      <th>Basic looping</th>\n",
       "      <td>5.505553</td>\n",
       "      <td>NaN</td>\n",
       "      <td>NaN</td>\n",
       "      <td>9.37000</td>\n",
       "      <td>NaN</td>\n",
       "      <td>NaN</td>\n",
       "    </tr>\n",
       "    <tr>\n",
       "      <th>Iterrows looping</th>\n",
       "      <td>NaN</td>\n",
       "      <td>NaN</td>\n",
       "      <td>NaN</td>\n",
       "      <td>3.87000</td>\n",
       "      <td>x2.42</td>\n",
       "      <td>x2.42</td>\n",
       "    </tr>\n",
       "    <tr>\n",
       "      <th>apply()</th>\n",
       "      <td>NaN</td>\n",
       "      <td>NaN</td>\n",
       "      <td>NaN</td>\n",
       "      <td>0.56200</td>\n",
       "      <td>x6.88</td>\n",
       "      <td>x16.69</td>\n",
       "    </tr>\n",
       "    <tr>\n",
       "      <th>Pandas vectorisation</th>\n",
       "      <td>NaN</td>\n",
       "      <td>NaN</td>\n",
       "      <td>NaN</td>\n",
       "      <td>0.00540</td>\n",
       "      <td>x103.8</td>\n",
       "      <td>x1732.17</td>\n",
       "    </tr>\n",
       "    <tr>\n",
       "      <th>NumPy vectorisation</th>\n",
       "      <td>NaN</td>\n",
       "      <td>NaN</td>\n",
       "      <td>NaN</td>\n",
       "      <td>0.00084</td>\n",
       "      <td>x6.45</td>\n",
       "      <td>x11172.98</td>\n",
       "    </tr>\n",
       "  </tbody>\n",
       "</table>\n",
       "</div>"
      ],
      "text/plain": [
       "                      Best single run time (s)  \\\n",
       "Basic looping                         5.505553   \n",
       "Iterrows looping                           NaN   \n",
       "apply()                                    NaN   \n",
       "Pandas vectorisation                       NaN   \n",
       "NumPy vectorisation                        NaN   \n",
       "\n",
       "                      Marginal performance improvement  \\\n",
       "Basic looping                                      NaN   \n",
       "Iterrows looping                                   NaN   \n",
       "apply()                                            NaN   \n",
       "Pandas vectorisation                               NaN   \n",
       "NumPy vectorisation                                NaN   \n",
       "\n",
       "                      Performance improvement over basic looping  \\\n",
       "Basic looping                                                NaN   \n",
       "Iterrows looping                                             NaN   \n",
       "apply()                                                      NaN   \n",
       "Pandas vectorisation                                         NaN   \n",
       "NumPy vectorisation                                          NaN   \n",
       "\n",
       "                      Best single run time (s, teacher)  \\\n",
       "Basic looping                                   9.37000   \n",
       "Iterrows looping                                3.87000   \n",
       "apply()                                         0.56200   \n",
       "Pandas vectorisation                            0.00540   \n",
       "NumPy vectorisation                             0.00084   \n",
       "\n",
       "                     Marginal performance improvement (teacher)  \\\n",
       "Basic looping                                               NaN   \n",
       "Iterrows looping                                          x2.42   \n",
       "apply()                                                   x6.88   \n",
       "Pandas vectorisation                                     x103.8   \n",
       "NumPy vectorisation                                       x6.45   \n",
       "\n",
       "                     Performance improvement over basic looping (teacher)  \n",
       "Basic looping                                                       NaN    \n",
       "Iterrows looping                                                  x2.42    \n",
       "apply()                                                          x16.69    \n",
       "Pandas vectorisation                                           x1732.17    \n",
       "NumPy vectorisation                                           x11172.98    "
      ]
     },
     "execution_count": 12,
     "metadata": {},
     "output_type": "execute_result"
    }
   ],
   "source": [
    "timing_data = {\n",
    "    'Best single run time (s)': [basic_time.best, np.nan, np.nan, np.nan,np.nan],\n",
    "    'Marginal performance improvement': [np.nan,np.nan, np.nan, np.nan,np.nan],\n",
    "    'Performance improvement over basic looping': np.nan,\n",
    "    'Best single run time (s, teacher)': [9.37, 3.87, 0.562, 0.0054, 0.00084],\n",
    "    'Marginal performance improvement (teacher)': [np.nan, 'x2.42', 'x6.88', 'x103.8', 'x6.45'],\n",
    "    'Performance improvement over basic looping (teacher)': [np.nan, 'x2.42', 'x16.69', 'x1732.17','x11172.98']\n",
    "}\n",
    "\n",
    "indices = ['Basic looping', 'Iterrows looping', 'apply()', 'Pandas vectorisation', 'NumPy vectorisation']\n",
    "timings = pd.DataFrame(timing_data, index=indices)\n",
    "timings"
   ]
  },
  {
   "cell_type": "markdown",
   "metadata": {
    "id": "ZfD0eUlHgz3l"
   },
   "source": [
    "**The grading for the following parts works as follows.**\n",
    "\n",
    "Let $m$ be the marginal performance improvement for the teacher's solution over basic looping, and let $m'$ be the marginal performance improvement for your solution over `basic_time`. If a part gives $n$ points, then you will get the $n$ points if $m' \\geq 0.4 m$, and 0 points otherwise.\n",
    "\n",
    "You don't get extra points for performing faster than the teacher's solution. But this is of course possible and you should feel free to optimise away as much as you want!"
   ]
  },
  {
   "cell_type": "markdown",
   "metadata": {
    "id": "JkiLI2QT7oNY"
   },
   "source": [
    "## Part 1: Looping with `iterrows` (2.5 pts)"
   ]
  },
  {
   "cell_type": "markdown",
   "metadata": {
    "id": "bmZIqPIf743q"
   },
   "source": [
    "Define a function `weighted_rating_iterrows(df)` that computes the ratings by looping over rows with the built-in iterator `iterrows`, and stores the results in a new column of the DataFrame called called `imdb_rating_iter`."
   ]
  },
  {
   "cell_type": "code",
   "execution_count": 13,
   "metadata": {
    "id": "m4dTxRfW6Gc4"
   },
   "outputs": [],
   "source": [
    "def weighted_rating_iterrows(df):\n",
    "    rating_list = []\n",
    "    for index, row in df.iterrows():\n",
    "        if row['vote_count'] > m:\n",
    "            v = row['vote_count']\n",
    "            R = row['vote_average']\n",
    "            rating_list.append( (v/(v+m) * R) + (m/(v+m) * C) )\n",
    "        else:\n",
    "            rating_list.append(np.nan)\n",
    "    df['imdb_rating_iter'] = rating_list\n",
    "    return df"
   ]
  },
  {
   "cell_type": "markdown",
   "metadata": {
    "id": "rsvOtN6y8Ycg"
   },
   "source": [
    "Call the function and make sure that it works as intended."
   ]
  },
  {
   "cell_type": "code",
   "execution_count": 14,
   "metadata": {
    "colab": {
     "base_uri": "https://localhost:8080/",
     "height": 204
    },
    "id": "sLKzzVP86bza",
    "outputId": "1526cce2-01a4-4b30-a50d-fc40a9179c18"
   },
   "outputs": [
    {
     "data": {
      "text/html": [
       "<div>\n",
       "<style scoped>\n",
       "    .dataframe tbody tr th:only-of-type {\n",
       "        vertical-align: middle;\n",
       "    }\n",
       "\n",
       "    .dataframe tbody tr th {\n",
       "        vertical-align: top;\n",
       "    }\n",
       "\n",
       "    .dataframe thead th {\n",
       "        text-align: right;\n",
       "    }\n",
       "</style>\n",
       "<table border=\"1\" class=\"dataframe\">\n",
       "  <thead>\n",
       "    <tr style=\"text-align: right;\">\n",
       "      <th></th>\n",
       "      <th>id</th>\n",
       "      <th>original_title</th>\n",
       "      <th>imdb_rating</th>\n",
       "      <th>imdb_rating_iter</th>\n",
       "    </tr>\n",
       "  </thead>\n",
       "  <tbody>\n",
       "    <tr>\n",
       "      <th>0</th>\n",
       "      <td>862</td>\n",
       "      <td>Toy Story</td>\n",
       "      <td>7.375533</td>\n",
       "      <td>7.375533</td>\n",
       "    </tr>\n",
       "    <tr>\n",
       "      <th>1</th>\n",
       "      <td>8844</td>\n",
       "      <td>Jumanji</td>\n",
       "      <td>6.524536</td>\n",
       "      <td>6.524536</td>\n",
       "    </tr>\n",
       "    <tr>\n",
       "      <th>2</th>\n",
       "      <td>15602</td>\n",
       "      <td>Grumpier Old Men</td>\n",
       "      <td>NaN</td>\n",
       "      <td>NaN</td>\n",
       "    </tr>\n",
       "    <tr>\n",
       "      <th>3</th>\n",
       "      <td>31357</td>\n",
       "      <td>Waiting to Exhale</td>\n",
       "      <td>NaN</td>\n",
       "      <td>NaN</td>\n",
       "    </tr>\n",
       "    <tr>\n",
       "      <th>4</th>\n",
       "      <td>11862</td>\n",
       "      <td>Father of the Bride Part II</td>\n",
       "      <td>NaN</td>\n",
       "      <td>NaN</td>\n",
       "    </tr>\n",
       "  </tbody>\n",
       "</table>\n",
       "</div>"
      ],
      "text/plain": [
       "      id               original_title  imdb_rating  imdb_rating_iter\n",
       "0    862                    Toy Story     7.375533          7.375533\n",
       "1   8844                      Jumanji     6.524536          6.524536\n",
       "2  15602             Grumpier Old Men          NaN               NaN\n",
       "3  31357            Waiting to Exhale          NaN               NaN\n",
       "4  11862  Father of the Bride Part II          NaN               NaN"
      ]
     },
     "execution_count": 14,
     "metadata": {},
     "output_type": "execute_result"
    }
   ],
   "source": [
    "weighted_rating_iterrows(df)\n",
    "\n",
    "pd.testing.assert_series_equal(\n",
    "    df.imdb_rating, df.imdb_rating_iter, check_names=False\n",
    ")\n",
    "\n",
    "columns_to_show = ['id', 'original_title'] + \\\n",
    "                  list(df.columns[df.columns.str.startswith('imdb_rating')])\n",
    "df[columns_to_show].head()"
   ]
  },
  {
   "cell_type": "markdown",
   "metadata": {
    "id": "AC-m0iR48jM6"
   },
   "source": [
    "Time the performance of the function."
   ]
  },
  {
   "cell_type": "code",
   "execution_count": 15,
   "metadata": {
    "colab": {
     "base_uri": "https://localhost:8080/"
    },
    "id": "9y3BWusJ8y70",
    "outputId": "42f42e8a-2c6f-411b-9646-9c22a49481fb"
   },
   "outputs": [
    {
     "name": "stdout",
     "output_type": "stream",
     "text": [
      "1.95 s ± 26.3 ms per loop (mean ± std. dev. of 3 runs, 1 loop each)\n",
      "Best time: 1.929968059999993\n"
     ]
    }
   ],
   "source": [
    "iterrows_time = %timeit -r 3 -o weighted_rating_iterrows(df)\n",
    "print(\"Best time:\", iterrows_time.best)"
   ]
  },
  {
   "cell_type": "markdown",
   "metadata": {
    "id": "HexMOOCB82e_"
   },
   "source": [
    "Update the score board with the best time, marginal and overall performance change you have obtained. Display the updated table below. "
   ]
  },
  {
   "cell_type": "code",
   "execution_count": 16,
   "metadata": {
    "colab": {
     "base_uri": "https://localhost:8080/",
     "height": 255
    },
    "id": "_SQRS_gdJCbM",
    "outputId": "4416a4bc-1695-4019-a248-d5f9e06e6a1c"
   },
   "outputs": [
    {
     "data": {
      "text/html": [
       "<div>\n",
       "<style scoped>\n",
       "    .dataframe tbody tr th:only-of-type {\n",
       "        vertical-align: middle;\n",
       "    }\n",
       "\n",
       "    .dataframe tbody tr th {\n",
       "        vertical-align: top;\n",
       "    }\n",
       "\n",
       "    .dataframe thead th {\n",
       "        text-align: right;\n",
       "    }\n",
       "</style>\n",
       "<table border=\"1\" class=\"dataframe\">\n",
       "  <thead>\n",
       "    <tr style=\"text-align: right;\">\n",
       "      <th></th>\n",
       "      <th>Best single run time (s)</th>\n",
       "      <th>Marginal performance improvement</th>\n",
       "      <th>Performance improvement over basic looping</th>\n",
       "      <th>Best single run time (s, teacher)</th>\n",
       "      <th>Marginal performance improvement (teacher)</th>\n",
       "      <th>Performance improvement over basic looping (teacher)</th>\n",
       "    </tr>\n",
       "  </thead>\n",
       "  <tbody>\n",
       "    <tr>\n",
       "      <th>Basic looping</th>\n",
       "      <td>5.505553</td>\n",
       "      <td>NaN</td>\n",
       "      <td>NaN</td>\n",
       "      <td>9.37000</td>\n",
       "      <td>NaN</td>\n",
       "      <td>NaN</td>\n",
       "    </tr>\n",
       "    <tr>\n",
       "      <th>Iterrows looping</th>\n",
       "      <td>1.929968</td>\n",
       "      <td>x2.9</td>\n",
       "      <td>x2.9</td>\n",
       "      <td>3.87000</td>\n",
       "      <td>x2.42</td>\n",
       "      <td>x2.42</td>\n",
       "    </tr>\n",
       "    <tr>\n",
       "      <th>apply()</th>\n",
       "      <td>NaN</td>\n",
       "      <td>NaN</td>\n",
       "      <td>NaN</td>\n",
       "      <td>0.56200</td>\n",
       "      <td>x6.88</td>\n",
       "      <td>x16.69</td>\n",
       "    </tr>\n",
       "    <tr>\n",
       "      <th>Pandas vectorisation</th>\n",
       "      <td>NaN</td>\n",
       "      <td>NaN</td>\n",
       "      <td>NaN</td>\n",
       "      <td>0.00540</td>\n",
       "      <td>x103.8</td>\n",
       "      <td>x1732.17</td>\n",
       "    </tr>\n",
       "    <tr>\n",
       "      <th>NumPy vectorisation</th>\n",
       "      <td>NaN</td>\n",
       "      <td>NaN</td>\n",
       "      <td>NaN</td>\n",
       "      <td>0.00084</td>\n",
       "      <td>x6.45</td>\n",
       "      <td>x11172.98</td>\n",
       "    </tr>\n",
       "  </tbody>\n",
       "</table>\n",
       "</div>"
      ],
      "text/plain": [
       "                      Best single run time (s)  \\\n",
       "Basic looping                         5.505553   \n",
       "Iterrows looping                      1.929968   \n",
       "apply()                                    NaN   \n",
       "Pandas vectorisation                       NaN   \n",
       "NumPy vectorisation                        NaN   \n",
       "\n",
       "                     Marginal performance improvement  \\\n",
       "Basic looping                                     NaN   \n",
       "Iterrows looping                                 x2.9   \n",
       "apply()                                           NaN   \n",
       "Pandas vectorisation                              NaN   \n",
       "NumPy vectorisation                               NaN   \n",
       "\n",
       "                     Performance improvement over basic looping  \\\n",
       "Basic looping                                               NaN   \n",
       "Iterrows looping                                           x2.9   \n",
       "apply()                                                     NaN   \n",
       "Pandas vectorisation                                        NaN   \n",
       "NumPy vectorisation                                         NaN   \n",
       "\n",
       "                      Best single run time (s, teacher)  \\\n",
       "Basic looping                                   9.37000   \n",
       "Iterrows looping                                3.87000   \n",
       "apply()                                         0.56200   \n",
       "Pandas vectorisation                            0.00540   \n",
       "NumPy vectorisation                             0.00084   \n",
       "\n",
       "                     Marginal performance improvement (teacher)  \\\n",
       "Basic looping                                               NaN   \n",
       "Iterrows looping                                          x2.42   \n",
       "apply()                                                   x6.88   \n",
       "Pandas vectorisation                                     x103.8   \n",
       "NumPy vectorisation                                       x6.45   \n",
       "\n",
       "                     Performance improvement over basic looping (teacher)  \n",
       "Basic looping                                                       NaN    \n",
       "Iterrows looping                                                  x2.42    \n",
       "apply()                                                          x16.69    \n",
       "Pandas vectorisation                                           x1732.17    \n",
       "NumPy vectorisation                                           x11172.98    "
      ]
     },
     "execution_count": 16,
     "metadata": {},
     "output_type": "execute_result"
    }
   ],
   "source": [
    "# your code goes here\n",
    "timings.loc['Iterrows looping','Best single run time (s)'] = iterrows_time.best\n",
    "timings.loc['Iterrows looping','Marginal performance improvement'] = \"x{:.1f}\".format(basic_time.best/iterrows_time.best)\n",
    "timings.loc['Iterrows looping','Performance improvement over basic looping'] = \"x{:.1f}\".format(basic_time.best/iterrows_time.best)\n",
    "timings"
   ]
  },
  {
   "cell_type": "markdown",
   "metadata": {
    "id": "7-FhuhB99em4"
   },
   "source": [
    "## Part 2: Using `apply()`. (5 pts)"
   ]
  },
  {
   "cell_type": "markdown",
   "metadata": {
    "id": "iZ294FYn9qhO"
   },
   "source": [
    "Define a function `weighted_rating_apply(df)` that computes the ratings using Pandas' `apply()` function, and stores the results in a new column of the DataFrame called `imdb_rating_apply`."
   ]
  },
  {
   "cell_type": "code",
   "execution_count": 17,
   "metadata": {
    "id": "Gk3SdbQs8ghG"
   },
   "outputs": [],
   "source": [
    "def weighted_rating_apply(df):\n",
    "    df['imdb_rating_apply'] = df.apply(weighted_rating, axis=1)"
   ]
  },
  {
   "cell_type": "markdown",
   "metadata": {
    "id": "jBgP1e1uCMlF"
   },
   "source": [
    "Call the function and make sure that it works as intended."
   ]
  },
  {
   "cell_type": "code",
   "execution_count": 18,
   "metadata": {
    "colab": {
     "base_uri": "https://localhost:8080/",
     "height": 204
    },
    "id": "wUaYXC_RCMlK",
    "outputId": "7735cd96-7119-412b-a831-8f7661ac41ee"
   },
   "outputs": [
    {
     "data": {
      "text/html": [
       "<div>\n",
       "<style scoped>\n",
       "    .dataframe tbody tr th:only-of-type {\n",
       "        vertical-align: middle;\n",
       "    }\n",
       "\n",
       "    .dataframe tbody tr th {\n",
       "        vertical-align: top;\n",
       "    }\n",
       "\n",
       "    .dataframe thead th {\n",
       "        text-align: right;\n",
       "    }\n",
       "</style>\n",
       "<table border=\"1\" class=\"dataframe\">\n",
       "  <thead>\n",
       "    <tr style=\"text-align: right;\">\n",
       "      <th></th>\n",
       "      <th>id</th>\n",
       "      <th>original_title</th>\n",
       "      <th>imdb_rating</th>\n",
       "      <th>imdb_rating_iter</th>\n",
       "      <th>imdb_rating_apply</th>\n",
       "    </tr>\n",
       "  </thead>\n",
       "  <tbody>\n",
       "    <tr>\n",
       "      <th>0</th>\n",
       "      <td>862</td>\n",
       "      <td>Toy Story</td>\n",
       "      <td>7.375533</td>\n",
       "      <td>7.375533</td>\n",
       "      <td>7.375533</td>\n",
       "    </tr>\n",
       "    <tr>\n",
       "      <th>1</th>\n",
       "      <td>8844</td>\n",
       "      <td>Jumanji</td>\n",
       "      <td>6.524536</td>\n",
       "      <td>6.524536</td>\n",
       "      <td>6.524536</td>\n",
       "    </tr>\n",
       "    <tr>\n",
       "      <th>2</th>\n",
       "      <td>15602</td>\n",
       "      <td>Grumpier Old Men</td>\n",
       "      <td>NaN</td>\n",
       "      <td>NaN</td>\n",
       "      <td>NaN</td>\n",
       "    </tr>\n",
       "    <tr>\n",
       "      <th>3</th>\n",
       "      <td>31357</td>\n",
       "      <td>Waiting to Exhale</td>\n",
       "      <td>NaN</td>\n",
       "      <td>NaN</td>\n",
       "      <td>NaN</td>\n",
       "    </tr>\n",
       "    <tr>\n",
       "      <th>4</th>\n",
       "      <td>11862</td>\n",
       "      <td>Father of the Bride Part II</td>\n",
       "      <td>NaN</td>\n",
       "      <td>NaN</td>\n",
       "      <td>NaN</td>\n",
       "    </tr>\n",
       "  </tbody>\n",
       "</table>\n",
       "</div>"
      ],
      "text/plain": [
       "      id               original_title  imdb_rating  imdb_rating_iter  \\\n",
       "0    862                    Toy Story     7.375533          7.375533   \n",
       "1   8844                      Jumanji     6.524536          6.524536   \n",
       "2  15602             Grumpier Old Men          NaN               NaN   \n",
       "3  31357            Waiting to Exhale          NaN               NaN   \n",
       "4  11862  Father of the Bride Part II          NaN               NaN   \n",
       "\n",
       "   imdb_rating_apply  \n",
       "0           7.375533  \n",
       "1           6.524536  \n",
       "2                NaN  \n",
       "3                NaN  \n",
       "4                NaN  "
      ]
     },
     "execution_count": 18,
     "metadata": {},
     "output_type": "execute_result"
    }
   ],
   "source": [
    "weighted_rating_apply(df)\n",
    "\n",
    "pd.testing.assert_series_equal(\n",
    "    df.imdb_rating, df.imdb_rating_apply, check_names=False\n",
    ")\n",
    "\n",
    "columns_to_show = ['id', 'original_title'] + \\\n",
    "                  list(df.columns[df.columns.str.startswith('imdb_rating')])\n",
    "df[columns_to_show].head()"
   ]
  },
  {
   "cell_type": "markdown",
   "metadata": {
    "id": "C9jjZI14CMlO"
   },
   "source": [
    "Time the performance of the function."
   ]
  },
  {
   "cell_type": "code",
   "execution_count": 19,
   "metadata": {
    "colab": {
     "base_uri": "https://localhost:8080/"
    },
    "id": "jqggBfTMCMlP",
    "outputId": "49cf2127-8f1d-47f6-85a0-e0b01526d0d2"
   },
   "outputs": [
    {
     "name": "stdout",
     "output_type": "stream",
     "text": [
      "484 ms ± 9.74 ms per loop (mean ± std. dev. of 3 runs, 1 loop each)\n",
      "Best time: 0.4734806969999994\n"
     ]
    }
   ],
   "source": [
    "apply_time = %timeit -r 3 -o weighted_rating_apply(df)\n",
    "print(\"Best time:\", apply_time.best)"
   ]
  },
  {
   "cell_type": "markdown",
   "metadata": {
    "id": "9DzMnzf4CMlS"
   },
   "source": [
    "Update the score board with the best time, marginal and overall performance change you have obtained. Display the updated table below. "
   ]
  },
  {
   "cell_type": "code",
   "execution_count": 20,
   "metadata": {
    "colab": {
     "base_uri": "https://localhost:8080/",
     "height": 255
    },
    "id": "-4RSuVOYV0JZ",
    "outputId": "411000fe-4b9b-47fe-85de-1d9ae83effec"
   },
   "outputs": [
    {
     "data": {
      "text/html": [
       "<div>\n",
       "<style scoped>\n",
       "    .dataframe tbody tr th:only-of-type {\n",
       "        vertical-align: middle;\n",
       "    }\n",
       "\n",
       "    .dataframe tbody tr th {\n",
       "        vertical-align: top;\n",
       "    }\n",
       "\n",
       "    .dataframe thead th {\n",
       "        text-align: right;\n",
       "    }\n",
       "</style>\n",
       "<table border=\"1\" class=\"dataframe\">\n",
       "  <thead>\n",
       "    <tr style=\"text-align: right;\">\n",
       "      <th></th>\n",
       "      <th>Best single run time (s)</th>\n",
       "      <th>Marginal performance improvement</th>\n",
       "      <th>Performance improvement over basic looping</th>\n",
       "      <th>Best single run time (s, teacher)</th>\n",
       "      <th>Marginal performance improvement (teacher)</th>\n",
       "      <th>Performance improvement over basic looping (teacher)</th>\n",
       "    </tr>\n",
       "  </thead>\n",
       "  <tbody>\n",
       "    <tr>\n",
       "      <th>Basic looping</th>\n",
       "      <td>5.505553</td>\n",
       "      <td>NaN</td>\n",
       "      <td>NaN</td>\n",
       "      <td>9.37000</td>\n",
       "      <td>NaN</td>\n",
       "      <td>NaN</td>\n",
       "    </tr>\n",
       "    <tr>\n",
       "      <th>Iterrows looping</th>\n",
       "      <td>1.929968</td>\n",
       "      <td>x2.9</td>\n",
       "      <td>x2.9</td>\n",
       "      <td>3.87000</td>\n",
       "      <td>x2.42</td>\n",
       "      <td>x2.42</td>\n",
       "    </tr>\n",
       "    <tr>\n",
       "      <th>apply()</th>\n",
       "      <td>0.470000</td>\n",
       "      <td>x4.08</td>\n",
       "      <td>x11.63</td>\n",
       "      <td>0.56200</td>\n",
       "      <td>x6.88</td>\n",
       "      <td>x16.69</td>\n",
       "    </tr>\n",
       "    <tr>\n",
       "      <th>Pandas vectorisation</th>\n",
       "      <td>NaN</td>\n",
       "      <td>NaN</td>\n",
       "      <td>NaN</td>\n",
       "      <td>0.00540</td>\n",
       "      <td>x103.8</td>\n",
       "      <td>x1732.17</td>\n",
       "    </tr>\n",
       "    <tr>\n",
       "      <th>NumPy vectorisation</th>\n",
       "      <td>NaN</td>\n",
       "      <td>NaN</td>\n",
       "      <td>NaN</td>\n",
       "      <td>0.00084</td>\n",
       "      <td>x6.45</td>\n",
       "      <td>x11172.98</td>\n",
       "    </tr>\n",
       "  </tbody>\n",
       "</table>\n",
       "</div>"
      ],
      "text/plain": [
       "                      Best single run time (s)  \\\n",
       "Basic looping                         5.505553   \n",
       "Iterrows looping                      1.929968   \n",
       "apply()                               0.470000   \n",
       "Pandas vectorisation                       NaN   \n",
       "NumPy vectorisation                        NaN   \n",
       "\n",
       "                     Marginal performance improvement  \\\n",
       "Basic looping                                     NaN   \n",
       "Iterrows looping                                 x2.9   \n",
       "apply()                                         x4.08   \n",
       "Pandas vectorisation                              NaN   \n",
       "NumPy vectorisation                               NaN   \n",
       "\n",
       "                     Performance improvement over basic looping  \\\n",
       "Basic looping                                               NaN   \n",
       "Iterrows looping                                           x2.9   \n",
       "apply()                                                  x11.63   \n",
       "Pandas vectorisation                                        NaN   \n",
       "NumPy vectorisation                                         NaN   \n",
       "\n",
       "                      Best single run time (s, teacher)  \\\n",
       "Basic looping                                   9.37000   \n",
       "Iterrows looping                                3.87000   \n",
       "apply()                                         0.56200   \n",
       "Pandas vectorisation                            0.00540   \n",
       "NumPy vectorisation                             0.00084   \n",
       "\n",
       "                     Marginal performance improvement (teacher)  \\\n",
       "Basic looping                                               NaN   \n",
       "Iterrows looping                                          x2.42   \n",
       "apply()                                                   x6.88   \n",
       "Pandas vectorisation                                     x103.8   \n",
       "NumPy vectorisation                                       x6.45   \n",
       "\n",
       "                     Performance improvement over basic looping (teacher)  \n",
       "Basic looping                                                       NaN    \n",
       "Iterrows looping                                                  x2.42    \n",
       "apply()                                                          x16.69    \n",
       "Pandas vectorisation                                           x1732.17    \n",
       "NumPy vectorisation                                           x11172.98    "
      ]
     },
     "execution_count": 20,
     "metadata": {},
     "output_type": "execute_result"
    }
   ],
   "source": [
    "timings.loc['apply()','Best single run time (s)'] =  round(apply_time.best, 2)\n",
    "timings.loc['apply()', 'Marginal performance improvement'] = 'x' + str(round(iterrows_time.best/apply_time.best, 2))\n",
    "timings.loc['apply()','Performance improvement over basic looping'] = 'x' + str(round(basic_time.best/apply_time.best, 2))\n",
    "timings"
   ]
  },
  {
   "cell_type": "markdown",
   "metadata": {
    "id": "TZHPgFMsED_6"
   },
   "source": [
    "## Part 3: Vectorised solution with Pandas (12.5 pts)"
   ]
  },
  {
   "cell_type": "markdown",
   "metadata": {
    "id": "CI7zQxGNGZnX"
   },
   "source": [
    "Let's find a vectorised solution using Pandas. You have to define a function `weighted_rating_pandas(df)` that computes the ratings in a vectorised way and stores them in a new column of the DataFrame called `imdb_rating_pandas`. Use Pandas operations only: don't transform your data into NumPy arrays."
   ]
  },
  {
   "cell_type": "code",
   "execution_count": 21,
   "metadata": {
    "id": "WqIXsMGFGZnY"
   },
   "outputs": [],
   "source": [
    "def weighted_rating_pandas(df):\n",
    "    v = df[df.vote_count > m].vote_count\n",
    "    R = df[df.vote_count > m].vote_average\n",
    "    df.loc[df.vote_count > m, 'imdb_rating_pandas'] = (v/(v+m) * R) + (m/(v+m) * C)\n",
    "    df.loc[df.vote_count < m, 'imdb_rating_pandas'] = np.nan"
   ]
  },
  {
   "cell_type": "markdown",
   "metadata": {
    "id": "qKVGubslGZna"
   },
   "source": [
    "Call the function and make sure it works as intended."
   ]
  },
  {
   "cell_type": "code",
   "execution_count": 22,
   "metadata": {
    "colab": {
     "base_uri": "https://localhost:8080/",
     "height": 204
    },
    "id": "yXf4KAj1GZna",
    "outputId": "973cbb53-0792-471c-adc5-3f4e6293cb12"
   },
   "outputs": [
    {
     "data": {
      "text/html": [
       "<div>\n",
       "<style scoped>\n",
       "    .dataframe tbody tr th:only-of-type {\n",
       "        vertical-align: middle;\n",
       "    }\n",
       "\n",
       "    .dataframe tbody tr th {\n",
       "        vertical-align: top;\n",
       "    }\n",
       "\n",
       "    .dataframe thead th {\n",
       "        text-align: right;\n",
       "    }\n",
       "</style>\n",
       "<table border=\"1\" class=\"dataframe\">\n",
       "  <thead>\n",
       "    <tr style=\"text-align: right;\">\n",
       "      <th></th>\n",
       "      <th>id</th>\n",
       "      <th>original_title</th>\n",
       "      <th>imdb_rating</th>\n",
       "      <th>imdb_rating_iter</th>\n",
       "      <th>imdb_rating_apply</th>\n",
       "      <th>imdb_rating_pandas</th>\n",
       "    </tr>\n",
       "  </thead>\n",
       "  <tbody>\n",
       "    <tr>\n",
       "      <th>0</th>\n",
       "      <td>862</td>\n",
       "      <td>Toy Story</td>\n",
       "      <td>7.375533</td>\n",
       "      <td>7.375533</td>\n",
       "      <td>7.375533</td>\n",
       "      <td>7.375533</td>\n",
       "    </tr>\n",
       "    <tr>\n",
       "      <th>1</th>\n",
       "      <td>8844</td>\n",
       "      <td>Jumanji</td>\n",
       "      <td>6.524536</td>\n",
       "      <td>6.524536</td>\n",
       "      <td>6.524536</td>\n",
       "      <td>6.524536</td>\n",
       "    </tr>\n",
       "    <tr>\n",
       "      <th>2</th>\n",
       "      <td>15602</td>\n",
       "      <td>Grumpier Old Men</td>\n",
       "      <td>NaN</td>\n",
       "      <td>NaN</td>\n",
       "      <td>NaN</td>\n",
       "      <td>NaN</td>\n",
       "    </tr>\n",
       "    <tr>\n",
       "      <th>3</th>\n",
       "      <td>31357</td>\n",
       "      <td>Waiting to Exhale</td>\n",
       "      <td>NaN</td>\n",
       "      <td>NaN</td>\n",
       "      <td>NaN</td>\n",
       "      <td>NaN</td>\n",
       "    </tr>\n",
       "    <tr>\n",
       "      <th>4</th>\n",
       "      <td>11862</td>\n",
       "      <td>Father of the Bride Part II</td>\n",
       "      <td>NaN</td>\n",
       "      <td>NaN</td>\n",
       "      <td>NaN</td>\n",
       "      <td>NaN</td>\n",
       "    </tr>\n",
       "  </tbody>\n",
       "</table>\n",
       "</div>"
      ],
      "text/plain": [
       "      id               original_title  imdb_rating  imdb_rating_iter  \\\n",
       "0    862                    Toy Story     7.375533          7.375533   \n",
       "1   8844                      Jumanji     6.524536          6.524536   \n",
       "2  15602             Grumpier Old Men          NaN               NaN   \n",
       "3  31357            Waiting to Exhale          NaN               NaN   \n",
       "4  11862  Father of the Bride Part II          NaN               NaN   \n",
       "\n",
       "   imdb_rating_apply  imdb_rating_pandas  \n",
       "0           7.375533            7.375533  \n",
       "1           6.524536            6.524536  \n",
       "2                NaN                 NaN  \n",
       "3                NaN                 NaN  \n",
       "4                NaN                 NaN  "
      ]
     },
     "execution_count": 22,
     "metadata": {},
     "output_type": "execute_result"
    }
   ],
   "source": [
    "weighted_rating_pandas(df)\n",
    "\n",
    "pd.testing.assert_series_equal(\n",
    "    df.imdb_rating, df.imdb_rating_pandas, check_names=False\n",
    ")\n",
    "\n",
    "columns_to_show = ['id', 'original_title'] + \\\n",
    "                  list(df.columns[df.columns.str.startswith('imdb_rating')])\n",
    "df[columns_to_show].head()"
   ]
  },
  {
   "cell_type": "markdown",
   "metadata": {
    "id": "scNFR7X8GZnc"
   },
   "source": [
    "Time the performance of the function."
   ]
  },
  {
   "cell_type": "code",
   "execution_count": 23,
   "metadata": {
    "colab": {
     "base_uri": "https://localhost:8080/"
    },
    "id": "TbhwZZ0mGZnf",
    "outputId": "d4bccd60-a149-4164-ce45-65afa7092182"
   },
   "outputs": [
    {
     "name": "stdout",
     "output_type": "stream",
     "text": [
      "6.01 ms ± 96.5 µs per loop (mean ± std. dev. of 3 runs, 100 loops each)\n",
      "Best time: 0.005872718999999904\n"
     ]
    }
   ],
   "source": [
    "pandas_time = %timeit -r 3 -o weighted_rating_pandas(df)\n",
    "print(\"Best time:\", pandas_time.best)"
   ]
  },
  {
   "cell_type": "markdown",
   "metadata": {
    "id": "Xsqz0kUJGZnh"
   },
   "source": [
    "Update the score board with the best time, marginal and overall performance change you have obtained. Display the updated table below. "
   ]
  },
  {
   "cell_type": "code",
   "execution_count": 24,
   "metadata": {
    "colab": {
     "base_uri": "https://localhost:8080/",
     "height": 255
    },
    "id": "SxCI0nUXV3Lk",
    "outputId": "308a803d-6630-438f-d5d2-bdf8ab0c61d0"
   },
   "outputs": [
    {
     "data": {
      "text/html": [
       "<div>\n",
       "<style scoped>\n",
       "    .dataframe tbody tr th:only-of-type {\n",
       "        vertical-align: middle;\n",
       "    }\n",
       "\n",
       "    .dataframe tbody tr th {\n",
       "        vertical-align: top;\n",
       "    }\n",
       "\n",
       "    .dataframe thead th {\n",
       "        text-align: right;\n",
       "    }\n",
       "</style>\n",
       "<table border=\"1\" class=\"dataframe\">\n",
       "  <thead>\n",
       "    <tr style=\"text-align: right;\">\n",
       "      <th></th>\n",
       "      <th>Best single run time (s)</th>\n",
       "      <th>Marginal performance improvement</th>\n",
       "      <th>Performance improvement over basic looping</th>\n",
       "      <th>Best single run time (s, teacher)</th>\n",
       "      <th>Marginal performance improvement (teacher)</th>\n",
       "      <th>Performance improvement over basic looping (teacher)</th>\n",
       "    </tr>\n",
       "  </thead>\n",
       "  <tbody>\n",
       "    <tr>\n",
       "      <th>Basic looping</th>\n",
       "      <td>5.505553</td>\n",
       "      <td>NaN</td>\n",
       "      <td>NaN</td>\n",
       "      <td>9.37000</td>\n",
       "      <td>NaN</td>\n",
       "      <td>NaN</td>\n",
       "    </tr>\n",
       "    <tr>\n",
       "      <th>Iterrows looping</th>\n",
       "      <td>1.929968</td>\n",
       "      <td>x2.9</td>\n",
       "      <td>x2.9</td>\n",
       "      <td>3.87000</td>\n",
       "      <td>x2.42</td>\n",
       "      <td>x2.42</td>\n",
       "    </tr>\n",
       "    <tr>\n",
       "      <th>apply()</th>\n",
       "      <td>0.470000</td>\n",
       "      <td>x4.08</td>\n",
       "      <td>x11.63</td>\n",
       "      <td>0.56200</td>\n",
       "      <td>x6.88</td>\n",
       "      <td>x16.69</td>\n",
       "    </tr>\n",
       "    <tr>\n",
       "      <th>Pandas vectorisation</th>\n",
       "      <td>0.010000</td>\n",
       "      <td>x80.62</td>\n",
       "      <td>x937.48</td>\n",
       "      <td>0.00540</td>\n",
       "      <td>x103.8</td>\n",
       "      <td>x1732.17</td>\n",
       "    </tr>\n",
       "    <tr>\n",
       "      <th>NumPy vectorisation</th>\n",
       "      <td>NaN</td>\n",
       "      <td>NaN</td>\n",
       "      <td>NaN</td>\n",
       "      <td>0.00084</td>\n",
       "      <td>x6.45</td>\n",
       "      <td>x11172.98</td>\n",
       "    </tr>\n",
       "  </tbody>\n",
       "</table>\n",
       "</div>"
      ],
      "text/plain": [
       "                      Best single run time (s)  \\\n",
       "Basic looping                         5.505553   \n",
       "Iterrows looping                      1.929968   \n",
       "apply()                               0.470000   \n",
       "Pandas vectorisation                  0.010000   \n",
       "NumPy vectorisation                        NaN   \n",
       "\n",
       "                     Marginal performance improvement  \\\n",
       "Basic looping                                     NaN   \n",
       "Iterrows looping                                 x2.9   \n",
       "apply()                                         x4.08   \n",
       "Pandas vectorisation                           x80.62   \n",
       "NumPy vectorisation                               NaN   \n",
       "\n",
       "                     Performance improvement over basic looping  \\\n",
       "Basic looping                                               NaN   \n",
       "Iterrows looping                                           x2.9   \n",
       "apply()                                                  x11.63   \n",
       "Pandas vectorisation                                    x937.48   \n",
       "NumPy vectorisation                                         NaN   \n",
       "\n",
       "                      Best single run time (s, teacher)  \\\n",
       "Basic looping                                   9.37000   \n",
       "Iterrows looping                                3.87000   \n",
       "apply()                                         0.56200   \n",
       "Pandas vectorisation                            0.00540   \n",
       "NumPy vectorisation                             0.00084   \n",
       "\n",
       "                     Marginal performance improvement (teacher)  \\\n",
       "Basic looping                                               NaN   \n",
       "Iterrows looping                                          x2.42   \n",
       "apply()                                                   x6.88   \n",
       "Pandas vectorisation                                     x103.8   \n",
       "NumPy vectorisation                                       x6.45   \n",
       "\n",
       "                     Performance improvement over basic looping (teacher)  \n",
       "Basic looping                                                       NaN    \n",
       "Iterrows looping                                                  x2.42    \n",
       "apply()                                                          x16.69    \n",
       "Pandas vectorisation                                           x1732.17    \n",
       "NumPy vectorisation                                           x11172.98    "
      ]
     },
     "execution_count": 24,
     "metadata": {},
     "output_type": "execute_result"
    }
   ],
   "source": [
    "timings.loc['Pandas vectorisation','Best single run time (s)'] =  round(pandas_time.best, 2)\n",
    "timings.loc['Pandas vectorisation','Marginal performance improvement']= 'x' + str(round(apply_time.best/pandas_time.best, 2))\n",
    "timings.loc['Pandas vectorisation','Performance improvement over basic looping'] = 'x' + str(round(basic_time.best/pandas_time.best, 2))\n",
    "timings"
   ]
  },
  {
   "cell_type": "markdown",
   "metadata": {
    "id": "HvwaE7pIjzEa"
   },
   "source": [
    "Time to reflect on your solution. Do the following: \n",
    " \n",
    "* Explain in words what your function does and why it is a vectorised solution. In particular, break down each step involving ufuncs, broadcasting and other vectorized calls. \n",
    "    * If your explanation has major errors, we will substract points for this part.\n",
    " \n",
    "* Display profiler output and give an analysis of what you see."
   ]
  },
  {
   "cell_type": "code",
   "execution_count": 25,
   "metadata": {
    "colab": {
     "base_uri": "https://localhost:8080/",
     "height": 130
    },
    "id": "bQHB_JqeV52E",
    "outputId": "ba2f3e85-d1d9-4393-b749-6b073a2c73aa"
   },
   "outputs": [],
   "source": [
    "%load_ext line_profiler\n",
    "%lprun -f weighted_rating_pandas weighted_rating_pandas(df)"
   ]
  },
  {
   "cell_type": "markdown",
   "metadata": {
    "id": "DngbQA2eV770"
   },
   "source": [
    "The function weighted_rating_pandas calculates the imdb rating if the movie has more than 1000 ratings and sets imdb rating to NaN otherwise.  \n",
    "The function utilizes vectorisation when calculating imdb rating, by numpy ufunc's (+, /, *) in the following equation: \n",
    " \n",
    "  ( v / ( v + m ) * R ) + ( m / ( v + m ) * C )  \n",
    "\n",
    "v and R are vectors of the length of the cleaned dataset. \n",
    "m is the number 1000. Thus every operation with m (+,/) are broadcast so that m is a vector of the same lenght as v and R, with all elements = 1000. \n"
   ]
  },
  {
   "cell_type": "markdown",
   "metadata": {
    "id": "QLwJEzATEKwi"
   },
   "source": [
    "## Part 4: Vectorised solution with NumPy (12.5 pts)"
   ]
  },
  {
   "cell_type": "markdown",
   "metadata": {
    "id": "GrAZ4OI2EPk8"
   },
   "source": [
    "Let's find a vectorised solution that uses NumPy to speed up the calculations. You have to define a function `weighted_rating_numpy(df)` that computes the ratings in a vectorised way and stores them in a new column of the DataFrame called `imdb_rating_numpy`."
   ]
  },
  {
   "cell_type": "code",
   "execution_count": 26,
   "metadata": {
    "id": "9sJlkDYAzQr8"
   },
   "outputs": [],
   "source": [
    "def weighted_rating_numpy(df):\n",
    "    \n",
    "    # bring in needed variables as numpy arrays\n",
    "    v = df['vote_count'].values\n",
    "    R = df['vote_average'].values\n",
    "    \n",
    "    # Change values that have a vote count too small for a rating to nan\n",
    "    v[v <= m] = np.nan\n",
    "    R[v <= m] = np.nan\n",
    "    \n",
    "    # do the calculation\n",
    "    result = (v/(v+m) * R) + (m/(v+m) * C)\n",
    "    \n",
    "    # add column to data frame\n",
    "    df['imdb_rating_numpy'] = result\n",
    "    \n",
    "    return df"
   ]
  },
  {
   "cell_type": "markdown",
   "metadata": {
    "id": "n2pAc_GEEudy"
   },
   "source": [
    "Call the function and make sure it works as intended."
   ]
  },
  {
   "cell_type": "code",
   "execution_count": 27,
   "metadata": {
    "id": "IALbcsKO2RNt"
   },
   "outputs": [
    {
     "data": {
      "text/html": [
       "<div>\n",
       "<style scoped>\n",
       "    .dataframe tbody tr th:only-of-type {\n",
       "        vertical-align: middle;\n",
       "    }\n",
       "\n",
       "    .dataframe tbody tr th {\n",
       "        vertical-align: top;\n",
       "    }\n",
       "\n",
       "    .dataframe thead th {\n",
       "        text-align: right;\n",
       "    }\n",
       "</style>\n",
       "<table border=\"1\" class=\"dataframe\">\n",
       "  <thead>\n",
       "    <tr style=\"text-align: right;\">\n",
       "      <th></th>\n",
       "      <th>id</th>\n",
       "      <th>original_title</th>\n",
       "      <th>imdb_rating</th>\n",
       "      <th>imdb_rating_iter</th>\n",
       "      <th>imdb_rating_apply</th>\n",
       "      <th>imdb_rating_pandas</th>\n",
       "      <th>imdb_rating_numpy</th>\n",
       "    </tr>\n",
       "  </thead>\n",
       "  <tbody>\n",
       "    <tr>\n",
       "      <th>0</th>\n",
       "      <td>862</td>\n",
       "      <td>Toy Story</td>\n",
       "      <td>7.375533</td>\n",
       "      <td>7.375533</td>\n",
       "      <td>7.375533</td>\n",
       "      <td>7.375533</td>\n",
       "      <td>7.375533</td>\n",
       "    </tr>\n",
       "    <tr>\n",
       "      <th>1</th>\n",
       "      <td>8844</td>\n",
       "      <td>Jumanji</td>\n",
       "      <td>6.524536</td>\n",
       "      <td>6.524536</td>\n",
       "      <td>6.524536</td>\n",
       "      <td>6.524536</td>\n",
       "      <td>6.524536</td>\n",
       "    </tr>\n",
       "    <tr>\n",
       "      <th>2</th>\n",
       "      <td>15602</td>\n",
       "      <td>Grumpier Old Men</td>\n",
       "      <td>NaN</td>\n",
       "      <td>NaN</td>\n",
       "      <td>NaN</td>\n",
       "      <td>NaN</td>\n",
       "      <td>NaN</td>\n",
       "    </tr>\n",
       "    <tr>\n",
       "      <th>3</th>\n",
       "      <td>31357</td>\n",
       "      <td>Waiting to Exhale</td>\n",
       "      <td>NaN</td>\n",
       "      <td>NaN</td>\n",
       "      <td>NaN</td>\n",
       "      <td>NaN</td>\n",
       "      <td>NaN</td>\n",
       "    </tr>\n",
       "    <tr>\n",
       "      <th>4</th>\n",
       "      <td>11862</td>\n",
       "      <td>Father of the Bride Part II</td>\n",
       "      <td>NaN</td>\n",
       "      <td>NaN</td>\n",
       "      <td>NaN</td>\n",
       "      <td>NaN</td>\n",
       "      <td>NaN</td>\n",
       "    </tr>\n",
       "  </tbody>\n",
       "</table>\n",
       "</div>"
      ],
      "text/plain": [
       "      id               original_title  imdb_rating  imdb_rating_iter  \\\n",
       "0    862                    Toy Story     7.375533          7.375533   \n",
       "1   8844                      Jumanji     6.524536          6.524536   \n",
       "2  15602             Grumpier Old Men          NaN               NaN   \n",
       "3  31357            Waiting to Exhale          NaN               NaN   \n",
       "4  11862  Father of the Bride Part II          NaN               NaN   \n",
       "\n",
       "   imdb_rating_apply  imdb_rating_pandas  imdb_rating_numpy  \n",
       "0           7.375533            7.375533           7.375533  \n",
       "1           6.524536            6.524536           6.524536  \n",
       "2                NaN                 NaN                NaN  \n",
       "3                NaN                 NaN                NaN  \n",
       "4                NaN                 NaN                NaN  "
      ]
     },
     "execution_count": 27,
     "metadata": {},
     "output_type": "execute_result"
    }
   ],
   "source": [
    "weighted_rating_numpy(df)\n",
    "\n",
    "pd.testing.assert_series_equal(\n",
    "    df.imdb_rating, df.imdb_rating_numpy, check_names=False\n",
    ")\n",
    "\n",
    "columns_to_show = ['id', 'original_title'] + \\\n",
    "                  list(df.columns[df.columns.str.startswith('imdb_rating')])\n",
    "df[columns_to_show].head()"
   ]
  },
  {
   "cell_type": "markdown",
   "metadata": {
    "id": "r0ebRPwiFAfo"
   },
   "source": [
    "Time the best performance of the function."
   ]
  },
  {
   "cell_type": "code",
   "execution_count": 28,
   "metadata": {
    "id": "eWe52oAQ6l8R"
   },
   "outputs": [
    {
     "name": "stdout",
     "output_type": "stream",
     "text": [
      "338 µs ± 3.08 µs per loop (mean ± std. dev. of 3 runs, 1000 loops each)\n",
      "Best time: 0.0003345247619999867\n"
     ]
    }
   ],
   "source": [
    "numpy_time = %timeit -r 3 -o weighted_rating_numpy(df)\n",
    "print(\"Best time:\", numpy_time.best)"
   ]
  },
  {
   "cell_type": "markdown",
   "metadata": {
    "id": "TB7tkhUDFAfr"
   },
   "source": [
    "Update the score board with the best time, marginal and overall performance change you have obtained. Display the updated table below. "
   ]
  },
  {
   "cell_type": "code",
   "execution_count": 29,
   "metadata": {
    "id": "J8MBiqnvushL"
   },
   "outputs": [
    {
     "data": {
      "text/html": [
       "<div>\n",
       "<style scoped>\n",
       "    .dataframe tbody tr th:only-of-type {\n",
       "        vertical-align: middle;\n",
       "    }\n",
       "\n",
       "    .dataframe tbody tr th {\n",
       "        vertical-align: top;\n",
       "    }\n",
       "\n",
       "    .dataframe thead th {\n",
       "        text-align: right;\n",
       "    }\n",
       "</style>\n",
       "<table border=\"1\" class=\"dataframe\">\n",
       "  <thead>\n",
       "    <tr style=\"text-align: right;\">\n",
       "      <th></th>\n",
       "      <th>Best single run time (s)</th>\n",
       "      <th>Marginal performance improvement</th>\n",
       "      <th>Performance improvement over basic looping</th>\n",
       "      <th>Best single run time (s, teacher)</th>\n",
       "      <th>Marginal performance improvement (teacher)</th>\n",
       "      <th>Performance improvement over basic looping (teacher)</th>\n",
       "    </tr>\n",
       "  </thead>\n",
       "  <tbody>\n",
       "    <tr>\n",
       "      <th>Basic looping</th>\n",
       "      <td>5.505553</td>\n",
       "      <td>NaN</td>\n",
       "      <td>NaN</td>\n",
       "      <td>9.37000</td>\n",
       "      <td>NaN</td>\n",
       "      <td>NaN</td>\n",
       "    </tr>\n",
       "    <tr>\n",
       "      <th>Iterrows looping</th>\n",
       "      <td>1.929968</td>\n",
       "      <td>x2.9</td>\n",
       "      <td>x2.9</td>\n",
       "      <td>3.87000</td>\n",
       "      <td>x2.42</td>\n",
       "      <td>x2.42</td>\n",
       "    </tr>\n",
       "    <tr>\n",
       "      <th>apply()</th>\n",
       "      <td>0.470000</td>\n",
       "      <td>x4.08</td>\n",
       "      <td>x11.63</td>\n",
       "      <td>0.56200</td>\n",
       "      <td>x6.88</td>\n",
       "      <td>x16.69</td>\n",
       "    </tr>\n",
       "    <tr>\n",
       "      <th>Pandas vectorisation</th>\n",
       "      <td>0.010000</td>\n",
       "      <td>x80.62</td>\n",
       "      <td>x937.48</td>\n",
       "      <td>0.00540</td>\n",
       "      <td>x103.8</td>\n",
       "      <td>x1732.17</td>\n",
       "    </tr>\n",
       "    <tr>\n",
       "      <th>NumPy vectorisation</th>\n",
       "      <td>0.000335</td>\n",
       "      <td>x17.6</td>\n",
       "      <td>x16457.8</td>\n",
       "      <td>0.00084</td>\n",
       "      <td>x6.45</td>\n",
       "      <td>x11172.98</td>\n",
       "    </tr>\n",
       "  </tbody>\n",
       "</table>\n",
       "</div>"
      ],
      "text/plain": [
       "                      Best single run time (s)  \\\n",
       "Basic looping                         5.505553   \n",
       "Iterrows looping                      1.929968   \n",
       "apply()                               0.470000   \n",
       "Pandas vectorisation                  0.010000   \n",
       "NumPy vectorisation                   0.000335   \n",
       "\n",
       "                     Marginal performance improvement  \\\n",
       "Basic looping                                     NaN   \n",
       "Iterrows looping                                 x2.9   \n",
       "apply()                                         x4.08   \n",
       "Pandas vectorisation                           x80.62   \n",
       "NumPy vectorisation                             x17.6   \n",
       "\n",
       "                     Performance improvement over basic looping  \\\n",
       "Basic looping                                               NaN   \n",
       "Iterrows looping                                           x2.9   \n",
       "apply()                                                  x11.63   \n",
       "Pandas vectorisation                                    x937.48   \n",
       "NumPy vectorisation                                    x16457.8   \n",
       "\n",
       "                      Best single run time (s, teacher)  \\\n",
       "Basic looping                                   9.37000   \n",
       "Iterrows looping                                3.87000   \n",
       "apply()                                         0.56200   \n",
       "Pandas vectorisation                            0.00540   \n",
       "NumPy vectorisation                             0.00084   \n",
       "\n",
       "                     Marginal performance improvement (teacher)  \\\n",
       "Basic looping                                               NaN   \n",
       "Iterrows looping                                          x2.42   \n",
       "apply()                                                   x6.88   \n",
       "Pandas vectorisation                                     x103.8   \n",
       "NumPy vectorisation                                       x6.45   \n",
       "\n",
       "                     Performance improvement over basic looping (teacher)  \n",
       "Basic looping                                                       NaN    \n",
       "Iterrows looping                                                  x2.42    \n",
       "apply()                                                          x16.69    \n",
       "Pandas vectorisation                                           x1732.17    \n",
       "NumPy vectorisation                                           x11172.98    "
      ]
     },
     "execution_count": 29,
     "metadata": {},
     "output_type": "execute_result"
    }
   ],
   "source": [
    "timings.loc['NumPy vectorisation', 'Best single run time (s)'] = numpy_time.best\n",
    "timings.loc['NumPy vectorisation','Marginal performance improvement'] = \"x{:.1f}\".format(pandas_time.best/numpy_time.best)\n",
    "timings.loc['NumPy vectorisation','Performance improvement over basic looping'] = \"x{:.1f}\".format(basic_time.best/numpy_time.best)\n",
    "timings"
   ]
  },
  {
   "cell_type": "markdown",
   "metadata": {
    "id": "8RSyEDTvA-QQ"
   },
   "source": [
    "Time to reflect on your solution. Do the following: \n",
    " \n",
    "* Explain in words what your function does and why it is a vectorised solution. In particular, break down each step involving ufuncs, broadcasting and other vectorized calls. \n",
    "    * If your explanation has major errors, we will substract points for this part.\n",
    "    * If applicable, you may refer back to the explanation you gave for `weighted_rating_pandas`.\n",
    " \n",
    "* Display profiler output and give an analysis of what you see.\n",
    "    * Contrast your findings with those from `weighted_rating_pandas`."
   ]
  },
  {
   "cell_type": "code",
   "execution_count": 30,
   "metadata": {
    "id": "FV8aYhv5WEqA"
   },
   "outputs": [],
   "source": [
    "%lprun -f weighted_rating_numpy weighted_rating_numpy(df)"
   ]
  },
  {
   "cell_type": "markdown",
   "metadata": {
    "id": "k7lgegwDWFTt"
   },
   "source": [
    "Just as with the pandas vectorirization, we save time by only going through the lines of the function once (there is no iteration as with the methods used before pandas vectorization). This allows the majority of the time to be spent on the calculation itself rather than spending time on accessing different rows of a pandas dataframe. The reason we see improvement over the pandas methods lies in the fact that though vectorization on pandas dataframes is possible, there is still a decent chunk of time spent on type-checking and indexing in pandas. By changing everything to numpy arrays, we can do the same calculations, but avoid the extra time needed to perform operations on pandas dataframes. \n",
    "\n",
    "In the same way as with the pandas vectorization, the weighted_rating_numpy function utilizes vectorisation utilizes the numpy ufunc's (+, /, *) to perform the same basic equation '( v / ( v + m ) * R ) + ( m / ( v + m ) * C )'. v and R are still vectors of equal length and m is still broadcast to be a vector of equal length as v and r for the calculation."
   ]
  },
  {
   "cell_type": "markdown",
   "metadata": {
    "id": "rcGeZKuIRHe7"
   },
   "source": [
    "## Part 5: Find out the top 25 titles (2.5 pts)"
   ]
  },
  {
   "cell_type": "markdown",
   "metadata": {
    "id": "E-IE_GfsRMOG"
   },
   "source": [
    "What are the top 25 titles? Now that we have the IMDb ratings conveniently stored in a column, display the top 25 titles, together with their IMDb rating:"
   ]
  },
  {
   "cell_type": "code",
   "execution_count": 31,
   "metadata": {
    "id": "svC-x1ZcRNJ4"
   },
   "outputs": [
    {
     "data": {
      "text/html": [
       "<div>\n",
       "<style scoped>\n",
       "    .dataframe tbody tr th:only-of-type {\n",
       "        vertical-align: middle;\n",
       "    }\n",
       "\n",
       "    .dataframe tbody tr th {\n",
       "        vertical-align: top;\n",
       "    }\n",
       "\n",
       "    .dataframe thead th {\n",
       "        text-align: right;\n",
       "    }\n",
       "</style>\n",
       "<table border=\"1\" class=\"dataframe\">\n",
       "  <thead>\n",
       "    <tr style=\"text-align: right;\">\n",
       "      <th></th>\n",
       "      <th>original_title</th>\n",
       "      <th>imdb_rating</th>\n",
       "    </tr>\n",
       "  </thead>\n",
       "  <tbody>\n",
       "    <tr>\n",
       "      <th>0</th>\n",
       "      <td>The Shawshank Redemption</td>\n",
       "      <td>8.192086</td>\n",
       "    </tr>\n",
       "    <tr>\n",
       "      <th>1</th>\n",
       "      <td>The Dark Knight</td>\n",
       "      <td>8.097916</td>\n",
       "    </tr>\n",
       "    <tr>\n",
       "      <th>2</th>\n",
       "      <td>The Godfather</td>\n",
       "      <td>8.089770</td>\n",
       "    </tr>\n",
       "    <tr>\n",
       "      <th>3</th>\n",
       "      <td>Fight Club</td>\n",
       "      <td>8.048880</td>\n",
       "    </tr>\n",
       "    <tr>\n",
       "      <th>4</th>\n",
       "      <td>Pulp Fiction</td>\n",
       "      <td>8.022704</td>\n",
       "    </tr>\n",
       "    <tr>\n",
       "      <th>5</th>\n",
       "      <td>Inception</td>\n",
       "      <td>7.935393</td>\n",
       "    </tr>\n",
       "    <tr>\n",
       "      <th>6</th>\n",
       "      <td>Forrest Gump</td>\n",
       "      <td>7.917781</td>\n",
       "    </tr>\n",
       "    <tr>\n",
       "      <th>7</th>\n",
       "      <td>Interstellar</td>\n",
       "      <td>7.896385</td>\n",
       "    </tr>\n",
       "    <tr>\n",
       "      <th>8</th>\n",
       "      <td>The Empire Strikes Back</td>\n",
       "      <td>7.831115</td>\n",
       "    </tr>\n",
       "    <tr>\n",
       "      <th>9</th>\n",
       "      <td>The Lord of the Rings: The Return of the King</td>\n",
       "      <td>7.831037</td>\n",
       "    </tr>\n",
       "    <tr>\n",
       "      <th>10</th>\n",
       "      <td>Schindler's List</td>\n",
       "      <td>7.806722</td>\n",
       "    </tr>\n",
       "    <tr>\n",
       "      <th>11</th>\n",
       "      <td>Whiplash</td>\n",
       "      <td>7.801217</td>\n",
       "    </tr>\n",
       "    <tr>\n",
       "      <th>12</th>\n",
       "      <td>Intouchables</td>\n",
       "      <td>7.797277</td>\n",
       "    </tr>\n",
       "    <tr>\n",
       "      <th>13</th>\n",
       "      <td>Star Wars</td>\n",
       "      <td>7.780965</td>\n",
       "    </tr>\n",
       "    <tr>\n",
       "      <th>14</th>\n",
       "      <td>千と千尋の神隠し</td>\n",
       "      <td>7.760254</td>\n",
       "    </tr>\n",
       "    <tr>\n",
       "      <th>15</th>\n",
       "      <td>The Lord of the Rings: The Fellowship of the Ring</td>\n",
       "      <td>7.759254</td>\n",
       "    </tr>\n",
       "    <tr>\n",
       "      <th>16</th>\n",
       "      <td>Se7en</td>\n",
       "      <td>7.741149</td>\n",
       "    </tr>\n",
       "    <tr>\n",
       "      <th>17</th>\n",
       "      <td>The Lord of the Rings: The Two Towers</td>\n",
       "      <td>7.724400</td>\n",
       "    </tr>\n",
       "    <tr>\n",
       "      <th>18</th>\n",
       "      <td>La vita è bella</td>\n",
       "      <td>7.722473</td>\n",
       "    </tr>\n",
       "    <tr>\n",
       "      <th>19</th>\n",
       "      <td>Léon</td>\n",
       "      <td>7.712289</td>\n",
       "    </tr>\n",
       "    <tr>\n",
       "      <th>20</th>\n",
       "      <td>The Green Mile</td>\n",
       "      <td>7.700299</td>\n",
       "    </tr>\n",
       "    <tr>\n",
       "      <th>21</th>\n",
       "      <td>The Godfather: Part II</td>\n",
       "      <td>7.693061</td>\n",
       "    </tr>\n",
       "    <tr>\n",
       "      <th>22</th>\n",
       "      <td>Guardians of the Galaxy</td>\n",
       "      <td>7.692858</td>\n",
       "    </tr>\n",
       "    <tr>\n",
       "      <th>23</th>\n",
       "      <td>The Matrix</td>\n",
       "      <td>7.673643</td>\n",
       "    </tr>\n",
       "    <tr>\n",
       "      <th>24</th>\n",
       "      <td>Back to the Future</td>\n",
       "      <td>7.671024</td>\n",
       "    </tr>\n",
       "  </tbody>\n",
       "</table>\n",
       "</div>"
      ],
      "text/plain": [
       "                                       original_title  imdb_rating\n",
       "0                            The Shawshank Redemption     8.192086\n",
       "1                                     The Dark Knight     8.097916\n",
       "2                                       The Godfather     8.089770\n",
       "3                                          Fight Club     8.048880\n",
       "4                                        Pulp Fiction     8.022704\n",
       "5                                           Inception     7.935393\n",
       "6                                        Forrest Gump     7.917781\n",
       "7                                        Interstellar     7.896385\n",
       "8                             The Empire Strikes Back     7.831115\n",
       "9       The Lord of the Rings: The Return of the King     7.831037\n",
       "10                                   Schindler's List     7.806722\n",
       "11                                           Whiplash     7.801217\n",
       "12                                       Intouchables     7.797277\n",
       "13                                          Star Wars     7.780965\n",
       "14                                           千と千尋の神隠し     7.760254\n",
       "15  The Lord of the Rings: The Fellowship of the Ring     7.759254\n",
       "16                                              Se7en     7.741149\n",
       "17              The Lord of the Rings: The Two Towers     7.724400\n",
       "18                                    La vita è bella     7.722473\n",
       "19                                               Léon     7.712289\n",
       "20                                     The Green Mile     7.700299\n",
       "21                             The Godfather: Part II     7.693061\n",
       "22                            Guardians of the Galaxy     7.692858\n",
       "23                                         The Matrix     7.673643\n",
       "24                                 Back to the Future     7.671024"
      ]
     },
     "execution_count": 31,
     "metadata": {},
     "output_type": "execute_result"
    }
   ],
   "source": [
    "df.nlargest(25, 'imdb_rating')[['original_title','imdb_rating']].reset_index(drop=True)"
   ]
  },
  {
   "cell_type": "markdown",
   "metadata": {
    "id": "2Ca4XaEtqvwt"
   },
   "source": [
    "# Exercise 3: Predicting the genre of movies (40 points)"
   ]
  },
  {
   "cell_type": "markdown",
   "metadata": {
    "id": "irkcmAfTHTzR"
   },
   "source": [
    "In this exercise, you'll be asked to create a number of features and use them to predict whether a movie is a science fiction movie or not. \n",
    "For this classification task, we'll work with a different part of the movies dataset, which contains more information for each movie."
   ]
  },
  {
   "cell_type": "code",
   "execution_count": 32,
   "metadata": {
    "ExecuteTime": {
     "end_time": "2021-09-27T12:28:57.151965Z",
     "start_time": "2021-09-27T12:28:57.145452Z"
    },
    "id": "cs0dJMEG1PLL"
   },
   "outputs": [],
   "source": [
    "train_url = 'http://courses.compute.dtu.dk/02807/2021/projects/project1/train.csv'"
   ]
  },
  {
   "cell_type": "markdown",
   "metadata": {
    "id": "SIcpNS2GCXUi"
   },
   "source": [
    "You'll try to predict whether a movie is a science fiction movie based on the other associated genres for the movie, the people and companies involved in making it, as well as its release date."
   ]
  },
  {
   "cell_type": "markdown",
   "metadata": {
    "id": "IkN5bCjoCPW9"
   },
   "source": [
    "## Part 1: Adding binary features for genres (15 pts)"
   ]
  },
  {
   "cell_type": "markdown",
   "metadata": {
    "id": "XA00jck22BKq"
   },
   "source": [
    "As in Exercise 1, the data on several columns is in a stringified format. Pre-process the following columns appropriately, as you did with the `genres` column in Part 1 of Exercise 1.\n",
    "```\n",
    "'belongs_to_collection', 'genres', 'production_companies','production_countries', 'spoken_languages', 'Keywords', 'cast', 'crew'\n",
    "```\n",
    " \n",
    "Don't loop explicitly over the rows to perform this preprocessing. Your dataframe should be named `train`."
   ]
  },
  {
   "cell_type": "code",
   "execution_count": 33,
   "metadata": {
    "id": "tHi0Ejxb2bKM"
   },
   "outputs": [
    {
     "name": "stdout",
     "output_type": "stream",
     "text": [
      "Is release_date of type pd.Timestamp: True\n",
      "Is belongs_to_collection of type list: True\n",
      "Is production_companies of type list: True\n",
      "Is production_countries of type list: True\n",
      "Is spoken_languages of type list: True\n",
      "Is genres of type list: True\n",
      "Is Keywords of type list: True\n",
      "Is cast of type list: True\n",
      "Is crew of type list: True\n"
     ]
    }
   ],
   "source": [
    "def load_train_data(train_url):\n",
    "    df = pd.read_csv(train_url, low_memory=False)\n",
    "\n",
    "    # Changing release_date from type string to datetime type\n",
    "    df.release_date = pd.to_datetime(df.release_date, errors='coerce')\n",
    "    #checking type \n",
    "    print('Is release_date of type pd.Timestamp:', type(df.release_date[0])==pd.Timestamp) \n",
    "\n",
    "    # Change the items in belongs to collection to dictionary unless they are null\n",
    "    df.belongs_to_collection = df.belongs_to_collection.dropna().apply(literal_eval)\n",
    "    print('Is belongs_to_collection of type list:', type(df.belongs_to_collection[0])==list) \n",
    "    \n",
    "    # Change production_companies to list\n",
    "    df.production_companies.replace(np.NaN, '[]', inplace=True)\n",
    "    df.production_companies = df.production_companies.dropna().apply(literal_eval)\n",
    "    print('Is production_companies of type list:', type(df.production_companies[0])==list)\n",
    "\n",
    "    # Change production_companies to list\n",
    "    df.production_countries.replace(np.NaN, '[]', inplace=True)\n",
    "    df.production_countries = df.production_countries.dropna().apply(literal_eval)\n",
    "    print('Is production_countries of type list:', type(df.production_countries[0])==list)\n",
    "\n",
    "    # Change the type of spoken laguages\n",
    "    df.spoken_languages = df.spoken_languages.dropna().apply(literal_eval)\n",
    "    print('Is spoken_languages of type list:', type(df.spoken_languages[0])==list) \n",
    "                    \n",
    "    # Change the type of genres\n",
    "    df.genres.replace(np.NaN, '[]', inplace=True)\n",
    "    df.genres = df.genres.dropna().apply(literal_eval)\n",
    "    print('Is genres of type list:', type(df.genres[0])==list) \n",
    "    \n",
    "    \n",
    "    # Change the type of Keywords\n",
    "    df.Keywords.replace(np.NaN, '[]', inplace=True)\n",
    "    df.Keywords = df.Keywords.dropna().apply(literal_eval)\n",
    "    print('Is Keywords of type list:', type(df.Keywords[0])==list)\n",
    "    \n",
    "    # Change the type of cast\n",
    "    df.cast.replace(np.NaN, '[]', inplace=True)\n",
    "    df.cast = df.cast.dropna().apply(literal_eval)\n",
    "    print('Is cast of type list:', type(df.cast[0])==list)\n",
    "    \n",
    "    # Change the type of crew\n",
    "    df.crew.replace(np.NaN, '[]', inplace=True)\n",
    "    df.crew = df.crew.dropna().apply(literal_eval)\n",
    "    print('Is crew of type list:', type(df.crew[0])==list)\n",
    "    \n",
    "    return df\n",
    "\n",
    "# Call function\n",
    "train = load_train_data(train_url)"
   ]
  },
  {
   "cell_type": "markdown",
   "metadata": {
    "id": "Z57lsGZ5IL7b"
   },
   "source": [
    "Looking at the 'genres' column, you can see that movies have a varying number of associated genres."
   ]
  },
  {
   "cell_type": "code",
   "execution_count": 34,
   "metadata": {
    "id": "amzV_VzSE0VL"
   },
   "outputs": [
    {
     "name": "stdout",
     "output_type": "stream",
     "text": [
      "0 [{'id': 35, 'name': 'Comedy'}]\n",
      "1 [{'id': 35, 'name': 'Comedy'}, {'id': 18, 'name': 'Drama'}, {'id': 10751, 'name': 'Family'}, {'id': 10749, 'name': 'Romance'}]\n",
      "2 [{'id': 18, 'name': 'Drama'}]\n",
      "3 [{'id': 53, 'name': 'Thriller'}, {'id': 18, 'name': 'Drama'}]\n",
      "4 [{'id': 28, 'name': 'Action'}, {'id': 53, 'name': 'Thriller'}]\n"
     ]
    }
   ],
   "source": [
    "# this will work only if you've already preprocessed the genres' column into lists of dicts\n",
    "for i, v in enumerate(train.genres.head()):\n",
    "    print(i, v)"
   ]
  },
  {
   "cell_type": "markdown",
   "metadata": {
    "id": "kPDjPDHlInOC"
   },
   "source": [
    "Count the number of movies that have $n$ associated genres, for each $n$ in the dataset. If a movie has no associated genres, assign it the number 0. \n",
    "\n",
    "You have to use Pandas built-in functions only (no explicit looping). For example, you could use `apply()` with an appropriate function to apply to each row. \n",
    "\n",
    "Once you have the counts, visualise them as a bar chart, with one bar per possible number of associated genres, and the height of the bar representing the number of movies with that number of genres.\n"
   ]
  },
  {
   "cell_type": "code",
   "execution_count": 35,
   "metadata": {
    "id": "6cHqZJ8iImh1"
   },
   "outputs": [
    {
     "data": {
      "text/plain": [
       "Text(0, 0.5, 'Number of Movies')"
      ]
     },
     "execution_count": 35,
     "metadata": {},
     "output_type": "execute_result"
    },
    {
     "data": {
      "image/png": "[encoded data removed]",
      "text/plain": [
       "<Figure size 432x288 with 1 Axes>"
      ]
     },
     "metadata": {
      "needs_background": "light"
     },
     "output_type": "display_data"
    }
   ],
   "source": [
    "def genre_count(row):\n",
    "    return len(row['genres'])\n",
    "\n",
    "num_genres = train.apply(genre_count, axis=1)\n",
    "num_genre_counts = num_genres.value_counts().sort_index()\n",
    "\n",
    "# Visualize in bar chart\n",
    "import matplotlib.pyplot as plt\n",
    "plt.figure()\n",
    "plt.bar(num_genre_counts.index.values, num_genre_counts)\n",
    "plt.title('Number of Movies Per Possible Number of Genres')\n",
    "plt.xlabel('Number of Genres')\n",
    "plt.ylabel('Number of Movies')"
   ]
  },
  {
   "cell_type": "markdown",
   "metadata": {
    "id": "EqA9UQ3rJyBQ"
   },
   "source": [
    "Let's create our binary features next. Complete the following steps:\n",
    " \n",
    "1.   Transform the `genres` column by replacing its current entries with the list of names of genres occurring in the entries.  For example, the entry \n",
    "```\n",
    "[{'id': 10749, 'name': 'Romance'}, {'id': 35, 'name': 'Comedy'}]\n",
    "```\n",
    "should be transformed into:\n",
    "```\n",
    "['Romance','Comedy']\n",
    "```\n",
    "Empty entries should be transformed into the empty list `[]`.\n",
    "\n",
    "2. Create a separate column (in `train`) for each of the 20 genres, with name `genres_(nameofgenre)` (e.g. `genres_Comedy`). A movie should have a 1 on a genres column if the genre is one of the associated genres for that movie, and a 0 otherwise.\n",
    "    * To get started, consider what operations create a data frame with dimensions as `train` and columns as specified here, based on the list output from step 1. Then combine this data frame with `train`.\n",
    "\n",
    "You have to use Pandas built-in functions only (no explicit looping)."
   ]
  },
  {
   "cell_type": "code",
   "execution_count": 36,
   "metadata": {
    "id": "EVXMvDv3Mk1t"
   },
   "outputs": [],
   "source": [
    "unique_names = []\n",
    "\n",
    "def genre_transform(row):\n",
    "    \n",
    "    genre_list = row['genres']\n",
    "    genre_names = []\n",
    "    \n",
    "    for i in range(len(genre_list)):\n",
    "        dictionary = genre_list[i]\n",
    "        genre_name = dictionary.get(\"name\")\n",
    "        genre_names.append(genre_name)\n",
    "        \n",
    "        # add unique name to list if it needs to\n",
    "        if (genre_name in unique_names)==False:\n",
    "            unique_names.append(genre_name)\n",
    "    \n",
    "    return genre_names\n",
    "\n",
    "#add to dataframe\n",
    "train['genre_names'] = train.apply(genre_transform, axis=1)\n",
    "\n",
    "# Make columns in train dataframe for each genre\n",
    "genre_columns = 'genres_'+pd.Series(unique_names)\n",
    "\n",
    "# Make \"data\" for empyt dataframe\n",
    "dummy_data = np.zeros((len(train),len(genre_columns)))\n",
    "\n",
    "# Make dataframe\n",
    "genre_df = pd.DataFrame(data=dummy_data, columns=genre_columns, dtype = int)\n",
    "\n",
    "# Combine dataframes\n",
    "train = pd.concat([train, genre_df], axis=1)\n",
    "\n",
    "# add 1 if movie is in that genre\n",
    "def add_genre(row):\n",
    "    genre_names = row['genre_names']\n",
    "    \n",
    "    for i in range(len(genre_names)):\n",
    "        column_name = 'genres_' + genre_names[i]\n",
    "        row[column_name] = 1\n",
    "    return row\n",
    "\n",
    "train = train.apply(add_genre, axis=1)"
   ]
  },
  {
   "cell_type": "markdown",
   "metadata": {
    "id": "nN65zGfLnSe-"
   },
   "source": [
    "Visualise the number of movies per top 20 genre with a chart of your choice."
   ]
  },
  {
   "cell_type": "code",
   "execution_count": 37,
   "metadata": {
    "id": "wEjJJkMZh9mF"
   },
   "outputs": [
    {
     "data": {
      "text/plain": [
       "Text(0, 0.5, 'Number of Movies')"
      ]
     },
     "execution_count": 37,
     "metadata": {},
     "output_type": "execute_result"
    },
    {
     "data": {
      "image/png": "[encoded data removed]",
      "text/plain": [
       "<Figure size 720x576 with 1 Axes>"
      ]
     },
     "metadata": {
      "needs_background": "light"
     },
     "output_type": "display_data"
    }
   ],
   "source": [
    "genre_count = train.loc[:,genre_columns.tolist()].sum()\n",
    "plt.figure(figsize = (10,8))\n",
    "genre_count.plot.bar(rot=280)\n",
    "plt.title('Number of Movies Per Top Genre')\n",
    "plt.xlabel('Genre')\n",
    "plt.ylabel('Number of Movies')"
   ]
  },
  {
   "cell_type": "markdown",
   "metadata": {
    "id": "M79tzVdMDfXL"
   },
   "source": [
    "## Part 2: Adding more binary features (5 pts)"
   ]
  },
  {
   "cell_type": "markdown",
   "metadata": {
    "id": "7iZngZ3ZnAsG"
   },
   "source": [
    "You've now extracted binary features for all genres associated with a movie. But there's other information that we could use to base our predictions on. \n",
    "\n",
    "The `genres` column is just one out of several columns containing lists of dictionaries as entries. For example, the `production_companies` column also contains lists of dictionaries, providing names of the companies producing the movie. As you just did with genres, add new columns for:\n",
    " \n",
    "1.   The names of the 30 most common production companies\n",
    "2.   The names of the 30 most common production countries\n",
    "3.   The names of the 30 most common actors (`cast` column) \n",
    "4.   The names of the 30 most common crew members\n",
    "5.   The names of the 30 most common keywords\n",
    " \n",
    "We recommend you generalize the functionality implemented in the previous question (e.g. to other columns and to restrict to top 30 most common values)."
   ]
  },
  {
   "cell_type": "code",
   "execution_count": 38,
   "metadata": {
    "id": "9sO8Tsqduatn"
   },
   "outputs": [],
   "source": [
    "def add_binary_features(data, feature):\n",
    "    \n",
    "    unique_names = []\n",
    "    \n",
    "    ########### internal functions\n",
    "    \n",
    "    def feature_transform(row):\n",
    "    \n",
    "        feature_list = row[feature]\n",
    "        feature_names = []\n",
    "\n",
    "        for i in range(len(feature_list)):\n",
    "            dictionary = feature_list[i]\n",
    "            feature_name = dictionary.get(\"name\")\n",
    "            feature_names.append(feature_name)\n",
    "\n",
    "            # add unique name to list if it needs to\n",
    "            if (feature_name in unique_names)==False:\n",
    "                unique_names.append(feature_name)\n",
    "\n",
    "        return feature_names\n",
    "    \n",
    "    def add_feature(row):\n",
    "        genre_names = row['genre_names']\n",
    "\n",
    "        for i in range(len(genre_names)):\n",
    "            column_name = 'genres_' + genre_names[i]\n",
    "            row[column_name] = 1\n",
    "        return row\n",
    "    \n",
    "    \n",
    "    ################## real function\n",
    "    \n",
    "    # transform feature (call transform function) and add to dataframe\n",
    "    str1 = feature + '_names'\n",
    "    data[str1] = data.apply(feature_transform, axis=1)\n",
    "    \n",
    "    #### determine the 30 most common feature options\n",
    "    \n",
    "    # Make columns in train dataframe for each feature\n",
    "    feature_columns = feature+'_'+pd.Series(unique_names)\n",
    "    \n",
    "    # Make \"data\" for empyt dataframe\n",
    "    dummy_data = np.zeros((len(data),len(unique_names)))\n",
    "    \n",
    "    # make data frame to figure out most common\n",
    "    common_df = pd.DataFrame(data=dummy_data, columns=feature_columns, dtype = int)\n",
    "    common_df['feature_names'] = data[str1]\n",
    "    \n",
    "    # add a 1 when an actor is present\n",
    "    def feature_count(row):\n",
    "        feature_names = row['feature_names']\n",
    "\n",
    "        for i in range(len(feature_names)):\n",
    "            column_name = feature+'_' + feature_names[i]\n",
    "            row[column_name] = 1 \n",
    "\n",
    "        return row\n",
    "    common_df = common_df.apply(feature_count, axis=1)  \n",
    "    \n",
    "    # sum the counts\n",
    "    feature_sum = common_df.loc[:,feature_columns.tolist()].sum()\n",
    "    \n",
    "    # sort dataframe \n",
    "    top_30 = feature_sum.sort_values(axis=0, ascending=False)[:30].index.tolist()\n",
    "    \n",
    "    # Make columns in train dataframe for each most commons feature option\n",
    "    common_df = common_df[top_30]\n",
    "    \n",
    "    # Combine dataframe with existin train dataframe\n",
    "    data = pd.concat([data, common_df], axis=1)\n",
    "    \n",
    "    return data"
   ]
  },
  {
   "cell_type": "code",
   "execution_count": 39,
   "metadata": {
    "id": "6s8Gds9sQ9VI"
   },
   "outputs": [
    {
     "name": "stdout",
     "output_type": "stream",
     "text": [
      "Binary features for production_companies complete.\n",
      "Binary features for production_countries complete.\n",
      "Binary features for cast complete.\n",
      "Binary features for crew complete.\n",
      "Binary features for Keywords complete.\n"
     ]
    }
   ],
   "source": [
    "# Call function for feature transforms\n",
    "train = add_binary_features(train, feature = 'production_companies')\n",
    "print('Binary features for production_companies complete.')\n",
    "\n",
    "train = add_binary_features(train, feature = 'production_countries')\n",
    "print('Binary features for production_countries complete.')\n",
    "\n",
    "train = add_binary_features(train, feature = 'cast')\n",
    "print('Binary features for cast complete.')\n",
    "\n",
    "train = add_binary_features(train, feature = 'crew')\n",
    "print('Binary features for crew complete.')\n",
    "\n",
    "train = add_binary_features(train, feature = 'Keywords')\n",
    "print('Binary features for Keywords complete.')"
   ]
  },
  {
   "cell_type": "markdown",
   "metadata": {
    "id": "KjFFSEJs93yJ"
   },
   "source": [
    "Check the result. You should now have a much wider table, with the new columns consisting of binary features."
   ]
  },
  {
   "cell_type": "code",
   "execution_count": 40,
   "metadata": {
    "id": "IyORi5V27Mg0"
   },
   "outputs": [
    {
     "data": {
      "text/html": [
       "<div>\n",
       "<style scoped>\n",
       "    .dataframe tbody tr th:only-of-type {\n",
       "        vertical-align: middle;\n",
       "    }\n",
       "\n",
       "    .dataframe tbody tr th {\n",
       "        vertical-align: top;\n",
       "    }\n",
       "\n",
       "    .dataframe thead th {\n",
       "        text-align: right;\n",
       "    }\n",
       "</style>\n",
       "<table border=\"1\" class=\"dataframe\">\n",
       "  <thead>\n",
       "    <tr style=\"text-align: right;\">\n",
       "      <th></th>\n",
       "      <th>id</th>\n",
       "      <th>belongs_to_collection</th>\n",
       "      <th>budget</th>\n",
       "      <th>genres</th>\n",
       "      <th>homepage</th>\n",
       "      <th>imdb_id</th>\n",
       "      <th>original_language</th>\n",
       "      <th>original_title</th>\n",
       "      <th>overview</th>\n",
       "      <th>popularity</th>\n",
       "      <th>...</th>\n",
       "      <th>Keywords_drug</th>\n",
       "      <th>Keywords_prison</th>\n",
       "      <th>Keywords_high school</th>\n",
       "      <th>Keywords_musical</th>\n",
       "      <th>Keywords_los angeles</th>\n",
       "      <th>Keywords_new york</th>\n",
       "      <th>Keywords_family</th>\n",
       "      <th>Keywords_father son relationship</th>\n",
       "      <th>Keywords_investigation</th>\n",
       "      <th>Keywords_kidnapping</th>\n",
       "    </tr>\n",
       "  </thead>\n",
       "  <tbody>\n",
       "    <tr>\n",
       "      <th>0</th>\n",
       "      <td>1</td>\n",
       "      <td>[{'id': 313576, 'name': 'Hot Tub Time Machine ...</td>\n",
       "      <td>14000000</td>\n",
       "      <td>[{'id': 35, 'name': 'Comedy'}]</td>\n",
       "      <td>NaN</td>\n",
       "      <td>tt2637294</td>\n",
       "      <td>en</td>\n",
       "      <td>Hot Tub Time Machine 2</td>\n",
       "      <td>When Lou, who has become the \"father of the In...</td>\n",
       "      <td>6.575393</td>\n",
       "      <td>...</td>\n",
       "      <td>0</td>\n",
       "      <td>0</td>\n",
       "      <td>0</td>\n",
       "      <td>0</td>\n",
       "      <td>0</td>\n",
       "      <td>0</td>\n",
       "      <td>0</td>\n",
       "      <td>0</td>\n",
       "      <td>0</td>\n",
       "      <td>0</td>\n",
       "    </tr>\n",
       "    <tr>\n",
       "      <th>1</th>\n",
       "      <td>2</td>\n",
       "      <td>[{'id': 107674, 'name': 'The Princess Diaries ...</td>\n",
       "      <td>40000000</td>\n",
       "      <td>[{'id': 35, 'name': 'Comedy'}, {'id': 18, 'nam...</td>\n",
       "      <td>NaN</td>\n",
       "      <td>tt0368933</td>\n",
       "      <td>en</td>\n",
       "      <td>The Princess Diaries 2: Royal Engagement</td>\n",
       "      <td>Mia Thermopolis is now a college graduate and ...</td>\n",
       "      <td>8.248895</td>\n",
       "      <td>...</td>\n",
       "      <td>0</td>\n",
       "      <td>0</td>\n",
       "      <td>0</td>\n",
       "      <td>0</td>\n",
       "      <td>0</td>\n",
       "      <td>0</td>\n",
       "      <td>0</td>\n",
       "      <td>0</td>\n",
       "      <td>0</td>\n",
       "      <td>0</td>\n",
       "    </tr>\n",
       "    <tr>\n",
       "      <th>2</th>\n",
       "      <td>3</td>\n",
       "      <td>NaN</td>\n",
       "      <td>3300000</td>\n",
       "      <td>[{'id': 18, 'name': 'Drama'}]</td>\n",
       "      <td>http://sonyclassics.com/whiplash/</td>\n",
       "      <td>tt2582802</td>\n",
       "      <td>en</td>\n",
       "      <td>Whiplash</td>\n",
       "      <td>Under the direction of a ruthless instructor, ...</td>\n",
       "      <td>64.299990</td>\n",
       "      <td>...</td>\n",
       "      <td>0</td>\n",
       "      <td>0</td>\n",
       "      <td>0</td>\n",
       "      <td>0</td>\n",
       "      <td>0</td>\n",
       "      <td>0</td>\n",
       "      <td>0</td>\n",
       "      <td>0</td>\n",
       "      <td>0</td>\n",
       "      <td>0</td>\n",
       "    </tr>\n",
       "    <tr>\n",
       "      <th>3</th>\n",
       "      <td>4</td>\n",
       "      <td>NaN</td>\n",
       "      <td>1200000</td>\n",
       "      <td>[{'id': 53, 'name': 'Thriller'}, {'id': 18, 'n...</td>\n",
       "      <td>http://kahaanithefilm.com/</td>\n",
       "      <td>tt1821480</td>\n",
       "      <td>hi</td>\n",
       "      <td>Kahaani</td>\n",
       "      <td>Vidya Bagchi (Vidya Balan) arrives in Kolkata ...</td>\n",
       "      <td>3.174936</td>\n",
       "      <td>...</td>\n",
       "      <td>0</td>\n",
       "      <td>0</td>\n",
       "      <td>0</td>\n",
       "      <td>0</td>\n",
       "      <td>0</td>\n",
       "      <td>0</td>\n",
       "      <td>0</td>\n",
       "      <td>0</td>\n",
       "      <td>0</td>\n",
       "      <td>0</td>\n",
       "    </tr>\n",
       "    <tr>\n",
       "      <th>4</th>\n",
       "      <td>5</td>\n",
       "      <td>NaN</td>\n",
       "      <td>0</td>\n",
       "      <td>[{'id': 28, 'name': 'Action'}, {'id': 53, 'nam...</td>\n",
       "      <td>NaN</td>\n",
       "      <td>tt1380152</td>\n",
       "      <td>ko</td>\n",
       "      <td>마린보이</td>\n",
       "      <td>Marine Boy is the story of a former national s...</td>\n",
       "      <td>1.148070</td>\n",
       "      <td>...</td>\n",
       "      <td>0</td>\n",
       "      <td>0</td>\n",
       "      <td>0</td>\n",
       "      <td>0</td>\n",
       "      <td>0</td>\n",
       "      <td>0</td>\n",
       "      <td>0</td>\n",
       "      <td>0</td>\n",
       "      <td>0</td>\n",
       "      <td>0</td>\n",
       "    </tr>\n",
       "  </tbody>\n",
       "</table>\n",
       "<p>5 rows × 199 columns</p>\n",
       "</div>"
      ],
      "text/plain": [
       "   id                              belongs_to_collection    budget  \\\n",
       "0   1  [{'id': 313576, 'name': 'Hot Tub Time Machine ...  14000000   \n",
       "1   2  [{'id': 107674, 'name': 'The Princess Diaries ...  40000000   \n",
       "2   3                                                NaN   3300000   \n",
       "3   4                                                NaN   1200000   \n",
       "4   5                                                NaN         0   \n",
       "\n",
       "                                              genres  \\\n",
       "0                     [{'id': 35, 'name': 'Comedy'}]   \n",
       "1  [{'id': 35, 'name': 'Comedy'}, {'id': 18, 'nam...   \n",
       "2                      [{'id': 18, 'name': 'Drama'}]   \n",
       "3  [{'id': 53, 'name': 'Thriller'}, {'id': 18, 'n...   \n",
       "4  [{'id': 28, 'name': 'Action'}, {'id': 53, 'nam...   \n",
       "\n",
       "                            homepage    imdb_id original_language  \\\n",
       "0                                NaN  tt2637294                en   \n",
       "1                                NaN  tt0368933                en   \n",
       "2  http://sonyclassics.com/whiplash/  tt2582802                en   \n",
       "3         http://kahaanithefilm.com/  tt1821480                hi   \n",
       "4                                NaN  tt1380152                ko   \n",
       "\n",
       "                             original_title  \\\n",
       "0                    Hot Tub Time Machine 2   \n",
       "1  The Princess Diaries 2: Royal Engagement   \n",
       "2                                  Whiplash   \n",
       "3                                   Kahaani   \n",
       "4                                      마린보이   \n",
       "\n",
       "                                            overview  popularity  ...  \\\n",
       "0  When Lou, who has become the \"father of the In...    6.575393  ...   \n",
       "1  Mia Thermopolis is now a college graduate and ...    8.248895  ...   \n",
       "2  Under the direction of a ruthless instructor, ...   64.299990  ...   \n",
       "3  Vidya Bagchi (Vidya Balan) arrives in Kolkata ...    3.174936  ...   \n",
       "4  Marine Boy is the story of a former national s...    1.148070  ...   \n",
       "\n",
       "  Keywords_drug Keywords_prison Keywords_high school Keywords_musical  \\\n",
       "0             0               0                    0                0   \n",
       "1             0               0                    0                0   \n",
       "2             0               0                    0                0   \n",
       "3             0               0                    0                0   \n",
       "4             0               0                    0                0   \n",
       "\n",
       "   Keywords_los angeles Keywords_new york Keywords_family  \\\n",
       "0                     0                 0               0   \n",
       "1                     0                 0               0   \n",
       "2                     0                 0               0   \n",
       "3                     0                 0               0   \n",
       "4                     0                 0               0   \n",
       "\n",
       "  Keywords_father son relationship Keywords_investigation Keywords_kidnapping  \n",
       "0                                0                      0                   0  \n",
       "1                                0                      0                   0  \n",
       "2                                0                      0                   0  \n",
       "3                                0                      0                   0  \n",
       "4                                0                      0                   0  \n",
       "\n",
       "[5 rows x 199 columns]"
      ]
     },
     "execution_count": 40,
     "metadata": {},
     "output_type": "execute_result"
    }
   ],
   "source": [
    "train.head()"
   ]
  },
  {
   "cell_type": "markdown",
   "metadata": {
    "id": "joEcHikdD5SY"
   },
   "source": [
    " ## Part 3: Adding numerical date features (5 points)"
   ]
  },
  {
   "cell_type": "markdown",
   "metadata": {
    "id": "nliC-9woDYd_"
   },
   "source": [
    "Next, we'll create some features based on the release date information. Create a new column storing the value for each of the following  aspects of a release date:\n",
    " \n",
    "```\n",
    "['year', 'weekday', 'month', 'weekofyear', 'day', 'quarter']\n",
    "```\n",
    " \n",
    "As usual, don't iterate explicitly to create these columns."
   ]
  },
  {
   "cell_type": "code",
   "execution_count": 42,
   "metadata": {
    "id": "-K5u197bDX1A"
   },
   "outputs": [],
   "source": [
    "time_list = ['year', 'weekday()', 'month', 'weekofyear', 'day', 'quarter']\n",
    "train[time_list] = \"\"\n",
    "\n",
    "def add_numerical_features(row):\n",
    "    \n",
    "    for i in range(len(time_list)):\n",
    "        row[time_list[i]] = eval('row[\\'release_date\\'].'+(time_list[i]))\n",
    "        \n",
    "    return row\n",
    "\n",
    "train = train.apply(add_numerical_features, axis=1)"
   ]
  },
  {
   "cell_type": "markdown",
   "metadata": {
    "id": "KWLi9-BW97VX"
   },
   "source": [
    "Next, we'll drop the columns that will not be used for learning. "
   ]
  },
  {
   "cell_type": "code",
   "execution_count": 43,
   "metadata": {
    "ExecuteTime": {
     "end_time": "2021-09-27T15:27:05.446343Z",
     "start_time": "2021-09-27T15:27:05.426250Z"
    },
    "id": "MbycSRqu8dR5"
   },
   "outputs": [],
   "source": [
    "train = train.drop(['id', 'homepage', 'original_language',\n",
    "                    'title', 'imdb_id','crew', 'poster_path', \n",
    "                    'release_date', 'status', 'belongs_to_collection',\n",
    "                    'Keywords', 'original_title', 'overview',\n",
    "                    'production_companies', 'production_countries', \n",
    "                    'spoken_languages', 'tagline', 'cast','genres'], \n",
    "                   axis=1)\n",
    "\n",
    "#Remove some extra columns that we added earlier\n",
    "train = train.drop(['genre_names', 'production_companies_names', \n",
    "                    'production_countries_names', 'cast_names', \n",
    "                    'crew_names','Keywords_names'], \n",
    "                   axis=1)"
   ]
  },
  {
   "cell_type": "markdown",
   "metadata": {
    "id": "lOlV7ho4-OR9"
   },
   "source": [
    "Lastly, drop any rows with missing values."
   ]
  },
  {
   "cell_type": "code",
   "execution_count": 44,
   "metadata": {
    "id": "asrzvNYy-NO4"
   },
   "outputs": [
    {
     "data": {
      "text/html": [
       "<div>\n",
       "<style scoped>\n",
       "    .dataframe tbody tr th:only-of-type {\n",
       "        vertical-align: middle;\n",
       "    }\n",
       "\n",
       "    .dataframe tbody tr th {\n",
       "        vertical-align: top;\n",
       "    }\n",
       "\n",
       "    .dataframe thead th {\n",
       "        text-align: right;\n",
       "    }\n",
       "</style>\n",
       "<table border=\"1\" class=\"dataframe\">\n",
       "  <thead>\n",
       "    <tr style=\"text-align: right;\">\n",
       "      <th></th>\n",
       "      <th>budget</th>\n",
       "      <th>popularity</th>\n",
       "      <th>runtime</th>\n",
       "      <th>revenue</th>\n",
       "      <th>genres_Comedy</th>\n",
       "      <th>genres_Drama</th>\n",
       "      <th>genres_Family</th>\n",
       "      <th>genres_Romance</th>\n",
       "      <th>genres_Thriller</th>\n",
       "      <th>genres_Action</th>\n",
       "      <th>...</th>\n",
       "      <th>Keywords_family</th>\n",
       "      <th>Keywords_father son relationship</th>\n",
       "      <th>Keywords_investigation</th>\n",
       "      <th>Keywords_kidnapping</th>\n",
       "      <th>year</th>\n",
       "      <th>weekday()</th>\n",
       "      <th>month</th>\n",
       "      <th>weekofyear</th>\n",
       "      <th>day</th>\n",
       "      <th>quarter</th>\n",
       "    </tr>\n",
       "  </thead>\n",
       "  <tbody>\n",
       "    <tr>\n",
       "      <th>0</th>\n",
       "      <td>14000000</td>\n",
       "      <td>6.575393</td>\n",
       "      <td>93.0</td>\n",
       "      <td>12314651</td>\n",
       "      <td>1</td>\n",
       "      <td>0</td>\n",
       "      <td>0</td>\n",
       "      <td>0</td>\n",
       "      <td>0</td>\n",
       "      <td>0</td>\n",
       "      <td>...</td>\n",
       "      <td>0</td>\n",
       "      <td>0</td>\n",
       "      <td>0</td>\n",
       "      <td>0</td>\n",
       "      <td>2015</td>\n",
       "      <td>4</td>\n",
       "      <td>2</td>\n",
       "      <td>8</td>\n",
       "      <td>20</td>\n",
       "      <td>1</td>\n",
       "    </tr>\n",
       "    <tr>\n",
       "      <th>1</th>\n",
       "      <td>40000000</td>\n",
       "      <td>8.248895</td>\n",
       "      <td>113.0</td>\n",
       "      <td>95149435</td>\n",
       "      <td>1</td>\n",
       "      <td>1</td>\n",
       "      <td>1</td>\n",
       "      <td>1</td>\n",
       "      <td>0</td>\n",
       "      <td>0</td>\n",
       "      <td>...</td>\n",
       "      <td>0</td>\n",
       "      <td>0</td>\n",
       "      <td>0</td>\n",
       "      <td>0</td>\n",
       "      <td>2004</td>\n",
       "      <td>4</td>\n",
       "      <td>8</td>\n",
       "      <td>32</td>\n",
       "      <td>6</td>\n",
       "      <td>3</td>\n",
       "    </tr>\n",
       "    <tr>\n",
       "      <th>2</th>\n",
       "      <td>3300000</td>\n",
       "      <td>64.299990</td>\n",
       "      <td>105.0</td>\n",
       "      <td>13092000</td>\n",
       "      <td>0</td>\n",
       "      <td>1</td>\n",
       "      <td>0</td>\n",
       "      <td>0</td>\n",
       "      <td>0</td>\n",
       "      <td>0</td>\n",
       "      <td>...</td>\n",
       "      <td>0</td>\n",
       "      <td>0</td>\n",
       "      <td>0</td>\n",
       "      <td>0</td>\n",
       "      <td>2014</td>\n",
       "      <td>4</td>\n",
       "      <td>10</td>\n",
       "      <td>41</td>\n",
       "      <td>10</td>\n",
       "      <td>4</td>\n",
       "    </tr>\n",
       "    <tr>\n",
       "      <th>3</th>\n",
       "      <td>1200000</td>\n",
       "      <td>3.174936</td>\n",
       "      <td>122.0</td>\n",
       "      <td>16000000</td>\n",
       "      <td>0</td>\n",
       "      <td>1</td>\n",
       "      <td>0</td>\n",
       "      <td>0</td>\n",
       "      <td>1</td>\n",
       "      <td>0</td>\n",
       "      <td>...</td>\n",
       "      <td>0</td>\n",
       "      <td>0</td>\n",
       "      <td>0</td>\n",
       "      <td>0</td>\n",
       "      <td>2012</td>\n",
       "      <td>4</td>\n",
       "      <td>3</td>\n",
       "      <td>10</td>\n",
       "      <td>9</td>\n",
       "      <td>1</td>\n",
       "    </tr>\n",
       "    <tr>\n",
       "      <th>4</th>\n",
       "      <td>0</td>\n",
       "      <td>1.148070</td>\n",
       "      <td>118.0</td>\n",
       "      <td>3923970</td>\n",
       "      <td>0</td>\n",
       "      <td>0</td>\n",
       "      <td>0</td>\n",
       "      <td>0</td>\n",
       "      <td>1</td>\n",
       "      <td>1</td>\n",
       "      <td>...</td>\n",
       "      <td>0</td>\n",
       "      <td>0</td>\n",
       "      <td>0</td>\n",
       "      <td>0</td>\n",
       "      <td>2009</td>\n",
       "      <td>3</td>\n",
       "      <td>2</td>\n",
       "      <td>6</td>\n",
       "      <td>5</td>\n",
       "      <td>1</td>\n",
       "    </tr>\n",
       "  </tbody>\n",
       "</table>\n",
       "<p>5 rows × 180 columns</p>\n",
       "</div>"
      ],
      "text/plain": [
       "     budget  popularity  runtime   revenue  genres_Comedy  genres_Drama  \\\n",
       "0  14000000    6.575393     93.0  12314651              1             0   \n",
       "1  40000000    8.248895    113.0  95149435              1             1   \n",
       "2   3300000   64.299990    105.0  13092000              0             1   \n",
       "3   1200000    3.174936    122.0  16000000              0             1   \n",
       "4         0    1.148070    118.0   3923970              0             0   \n",
       "\n",
       "   genres_Family  genres_Romance  genres_Thriller  genres_Action  ...  \\\n",
       "0              0               0                0              0  ...   \n",
       "1              1               1                0              0  ...   \n",
       "2              0               0                0              0  ...   \n",
       "3              0               0                1              0  ...   \n",
       "4              0               0                1              1  ...   \n",
       "\n",
       "   Keywords_family  Keywords_father son relationship  Keywords_investigation  \\\n",
       "0                0                                 0                       0   \n",
       "1                0                                 0                       0   \n",
       "2                0                                 0                       0   \n",
       "3                0                                 0                       0   \n",
       "4                0                                 0                       0   \n",
       "\n",
       "   Keywords_kidnapping  year  weekday()  month  weekofyear  day  quarter  \n",
       "0                    0  2015          4      2           8   20        1  \n",
       "1                    0  2004          4      8          32    6        3  \n",
       "2                    0  2014          4     10          41   10        4  \n",
       "3                    0  2012          4      3          10    9        1  \n",
       "4                    0  2009          3      2           6    5        1  \n",
       "\n",
       "[5 rows x 180 columns]"
      ]
     },
     "execution_count": 44,
     "metadata": {},
     "output_type": "execute_result"
    }
   ],
   "source": [
    "train = train.dropna(axis = 0)\n",
    "train.head()"
   ]
  },
  {
   "cell_type": "markdown",
   "metadata": {
    "id": "tV_ANmOH0rQJ"
   },
   "source": [
    "## Part 4: Prediction (10 pts)"
   ]
  },
  {
   "cell_type": "markdown",
   "metadata": {
    "id": "9Y1XUwNX0rQL"
   },
   "source": [
    "Let's load the necessary `sklearn` libraries and prepare the training data for learning. Recall that your goal is to predict whether a movie has science fiction as an associated genre. So you're dealing with a binary classification task."
   ]
  },
  {
   "cell_type": "code",
   "execution_count": 45,
   "metadata": {
    "id": "9Qpz2Cd60rQM"
   },
   "outputs": [],
   "source": [
    "from sklearn.model_selection import train_test_split"
   ]
  },
  {
   "cell_type": "markdown",
   "metadata": {
    "id": "dWzqddf90rQR"
   },
   "source": [
    "Use `sklearn` to prepare the training and test sets, setting aside 15% of the data for testing. Call the training input features, training labels, test input features and test labels as follows:\n",
    "\n",
    "```\n",
    "x_train, x_test, y_train, y_test\n",
    "```\n",
    "\n"
   ]
  },
  {
   "cell_type": "code",
   "execution_count": 46,
   "metadata": {
    "id": "dDLDQWPl0rQS"
   },
   "outputs": [],
   "source": [
    "y_data = train['genres_Science Fiction']\n",
    "x_data = train.drop(labels = 'genres_Science Fiction', axis = 1)\n",
    "\n",
    "# create split\n",
    "x_train, x_test, y_train, y_test = train_test_split(x_data, y_data, test_size=0.15, random_state=1)\n",
    "\n",
    "# Change to floats\n",
    "x_train = np.array(x_train).astype(np.float64)\n",
    "x_test  = np.array(x_test).astype(np.float64)\n",
    "y_train = np.array(y_train).astype(np.float64)\n",
    "y_test  = np.array(y_test).astype(np.float64)"
   ]
  },
  {
   "cell_type": "markdown",
   "metadata": {
    "id": "AKaGZrSuLg1K"
   },
   "source": [
    "Feature scaling is a common requirement for many machine learning estimators: they might behave badly if the individual features do not more or less look like standard normally distributed data (e.g. Gaussian with 0 mean and unit variance). Run the following code to feature scale your input data."
   ]
  },
  {
   "cell_type": "code",
   "execution_count": 47,
   "metadata": {
    "id": "by0c0S7s0rQY"
   },
   "outputs": [],
   "source": [
    "from sklearn.preprocessing import StandardScaler  \n",
    "scaler = StandardScaler()  \n",
    "scaler.fit(x_train)  \n",
    "x_train = scaler.transform(x_train) \n",
    "x_test = scaler.transform(x_test)"
   ]
  },
  {
   "cell_type": "markdown",
   "metadata": {
    "id": "lxX0ugDuNR8o"
   },
   "source": [
    "Check that the shape of your data looks correct."
   ]
  },
  {
   "cell_type": "code",
   "execution_count": 48,
   "metadata": {
    "id": "5tJHqw2M0rQf"
   },
   "outputs": [
    {
     "name": "stdout",
     "output_type": "stream",
     "text": [
      "(2548, 179) (2548,)\n",
      "(450, 179) (450,)\n"
     ]
    }
   ],
   "source": [
    "print(x_train.shape, y_train.shape)\n",
    "print(x_test.shape, y_test.shape)"
   ]
  },
  {
   "cell_type": "markdown",
   "metadata": {
    "id": "90SIHxqzN3Ht"
   },
   "source": [
    "Train a classifier of your choice. Then report results:\n",
    "* Display the confusion matrix over the test set in absolute numbers.\n",
    "    * These numbers reflect number of true positives, true negatives, false positives and false negatives.\n",
    "* Display a normalized confusion matrix over the test set, so [sensitivity and specificity](https://en.wikipedia.org/wiki/Evaluation_of_binary_classifiers) can be read from the diagonal (off-diagonal will contain type I and type II error rates).\n",
    "    * Note that sensitivity is recall for the positive class (1), whereas specificity is recall for the negative class (0).\n",
    "* State **in free-text** the sensitivity and specificity of your classifier."
   ]
  },
  {
   "cell_type": "code",
   "execution_count": 49,
   "metadata": {
    "id": "lIg8WIm3NiKN"
   },
   "outputs": [
    {
     "name": "stdout",
     "output_type": "stream",
     "text": [
      "Iteration 1, loss = 0.66359291\n",
      "Iteration 2, loss = 0.59924731\n",
      "Iteration 3, loss = 0.53670074\n",
      "Iteration 4, loss = 0.47454550\n",
      "Iteration 5, loss = 0.41533194\n",
      "Iteration 6, loss = 0.36375761\n",
      "Iteration 7, loss = 0.32316884\n",
      "Iteration 8, loss = 0.29274657\n",
      "Iteration 9, loss = 0.27184390\n",
      "Iteration 10, loss = 0.25641732\n",
      "Iteration 11, loss = 0.24432802\n",
      "Iteration 12, loss = 0.23404439\n",
      "Iteration 13, loss = 0.22527315\n",
      "Iteration 14, loss = 0.21737760\n",
      "Iteration 15, loss = 0.21037836\n",
      "Iteration 16, loss = 0.20381360\n",
      "Iteration 17, loss = 0.19772458\n",
      "Iteration 18, loss = 0.19220832\n",
      "Iteration 19, loss = 0.18644586\n",
      "Iteration 20, loss = 0.18142494\n",
      "Iteration 21, loss = 0.17598842\n",
      "Iteration 22, loss = 0.17123554\n",
      "Iteration 23, loss = 0.16612283\n",
      "Iteration 24, loss = 0.16100188\n",
      "Iteration 25, loss = 0.15529033\n",
      "Iteration 26, loss = 0.14979960\n",
      "Iteration 27, loss = 0.14490836\n",
      "Iteration 28, loss = 0.13989757\n",
      "Iteration 29, loss = 0.13543600\n",
      "Iteration 30, loss = 0.13069757\n",
      "Iteration 31, loss = 0.12647835\n",
      "Iteration 32, loss = 0.12238977\n",
      "Iteration 33, loss = 0.11845538\n",
      "Iteration 34, loss = 0.11456734\n",
      "Iteration 35, loss = 0.11112724\n",
      "Iteration 36, loss = 0.10779774\n",
      "Iteration 37, loss = 0.10444304\n",
      "Iteration 38, loss = 0.10129744\n",
      "Iteration 39, loss = 0.09816987\n",
      "Iteration 40, loss = 0.09571748\n",
      "Iteration 41, loss = 0.09271985\n",
      "Iteration 42, loss = 0.09009299\n",
      "Iteration 43, loss = 0.08756925\n",
      "Iteration 44, loss = 0.08509637\n",
      "Iteration 45, loss = 0.08292359\n",
      "Iteration 46, loss = 0.08052869\n",
      "Iteration 47, loss = 0.07843924\n",
      "Iteration 48, loss = 0.07672201\n",
      "Iteration 49, loss = 0.07482298\n",
      "Iteration 50, loss = 0.07295615\n",
      "Iteration 51, loss = 0.07136178\n",
      "Iteration 52, loss = 0.06978445\n",
      "Iteration 53, loss = 0.06827546\n",
      "Iteration 54, loss = 0.06675478\n",
      "Iteration 55, loss = 0.06506353\n",
      "Iteration 56, loss = 0.06404907\n",
      "Iteration 57, loss = 0.06237705\n",
      "Iteration 58, loss = 0.06096778\n",
      "Iteration 59, loss = 0.05969896\n",
      "Iteration 60, loss = 0.05834547\n",
      "Iteration 61, loss = 0.05685160\n",
      "Iteration 62, loss = 0.05576986\n",
      "Iteration 63, loss = 0.05482463\n",
      "Iteration 64, loss = 0.05309472\n",
      "Iteration 65, loss = 0.05215200\n",
      "Iteration 66, loss = 0.05113837\n",
      "Iteration 67, loss = 0.04986782\n",
      "Iteration 68, loss = 0.04847186\n",
      "Iteration 69, loss = 0.04762636\n",
      "Iteration 70, loss = 0.04653482\n",
      "Iteration 71, loss = 0.04546742\n",
      "Iteration 72, loss = 0.04461318\n",
      "Iteration 73, loss = 0.04374706\n",
      "Iteration 74, loss = 0.04276488\n",
      "Iteration 75, loss = 0.04196508\n",
      "Iteration 76, loss = 0.04110203\n",
      "Iteration 77, loss = 0.04008824\n",
      "Iteration 78, loss = 0.03914990\n",
      "Iteration 79, loss = 0.03831221\n",
      "Iteration 80, loss = 0.03774467\n",
      "Iteration 81, loss = 0.03734555\n",
      "Iteration 82, loss = 0.03584135\n",
      "Iteration 83, loss = 0.03518042\n",
      "Iteration 84, loss = 0.03471325\n",
      "Iteration 85, loss = 0.03367218\n",
      "Iteration 86, loss = 0.03254748\n",
      "Iteration 87, loss = 0.03204475\n",
      "Iteration 88, loss = 0.03161155\n",
      "Iteration 89, loss = 0.03066036\n",
      "Iteration 90, loss = 0.02966629\n",
      "Iteration 91, loss = 0.02910599\n",
      "Iteration 92, loss = 0.02849267\n",
      "Iteration 93, loss = 0.02787885\n",
      "Iteration 94, loss = 0.02704290\n",
      "Iteration 95, loss = 0.02709504\n",
      "Iteration 96, loss = 0.02596610\n",
      "Iteration 97, loss = 0.02562011\n",
      "Iteration 98, loss = 0.02488180\n",
      "Iteration 99, loss = 0.02453906\n",
      "Iteration 100, loss = 0.02390189\n",
      "Iteration 101, loss = 0.02342717\n",
      "Iteration 102, loss = 0.02260572\n",
      "Iteration 103, loss = 0.02237668\n",
      "Iteration 104, loss = 0.02192722\n",
      "Iteration 105, loss = 0.02103689\n",
      "Iteration 106, loss = 0.02092864\n",
      "Iteration 107, loss = 0.02014949\n",
      "Iteration 108, loss = 0.01994703\n",
      "Iteration 109, loss = 0.01940345\n",
      "Iteration 110, loss = 0.01881384\n",
      "Iteration 111, loss = 0.01834098\n",
      "Iteration 112, loss = 0.01802525\n",
      "Iteration 113, loss = 0.01770567\n",
      "Iteration 114, loss = 0.01777172\n",
      "Iteration 115, loss = 0.01701050\n",
      "Iteration 116, loss = 0.01674557\n",
      "Iteration 117, loss = 0.01623160\n",
      "Iteration 118, loss = 0.01567112\n",
      "Iteration 119, loss = 0.01455327\n",
      "Iteration 120, loss = 0.01427240\n",
      "Iteration 121, loss = 0.01371347\n",
      "Iteration 122, loss = 0.01320062\n",
      "Iteration 123, loss = 0.01288080\n",
      "Iteration 124, loss = 0.01247516\n",
      "Iteration 125, loss = 0.01229694\n",
      "Iteration 126, loss = 0.01184503\n",
      "Iteration 127, loss = 0.01151042\n",
      "Iteration 128, loss = 0.01103212\n",
      "Iteration 129, loss = 0.01058854\n",
      "Iteration 130, loss = 0.01024760\n",
      "Iteration 131, loss = 0.01008705\n",
      "Iteration 132, loss = 0.00965494\n",
      "Iteration 133, loss = 0.00958141\n",
      "Iteration 134, loss = 0.00996764\n",
      "Iteration 135, loss = 0.00902771\n",
      "Iteration 136, loss = 0.00839050\n",
      "Iteration 137, loss = 0.00808677\n",
      "Iteration 138, loss = 0.00762818\n",
      "Iteration 139, loss = 0.00729952\n",
      "Iteration 140, loss = 0.00722389\n",
      "Iteration 141, loss = 0.00696381\n",
      "Iteration 142, loss = 0.00677898\n",
      "Iteration 143, loss = 0.00631636\n",
      "Iteration 144, loss = 0.00627938\n",
      "Iteration 145, loss = 0.00613629\n",
      "Iteration 146, loss = 0.00596000\n",
      "Iteration 147, loss = 0.00596869\n",
      "Iteration 148, loss = 0.00542535\n",
      "Iteration 149, loss = 0.00514944\n",
      "Iteration 150, loss = 0.00503824\n",
      "Iteration 151, loss = 0.00487200\n",
      "Iteration 152, loss = 0.00560000\n",
      "Iteration 153, loss = 0.00487356\n",
      "Iteration 154, loss = 0.00458922\n",
      "Iteration 155, loss = 0.00434001\n",
      "Iteration 156, loss = 0.00411998\n",
      "Iteration 157, loss = 0.00395894\n",
      "Iteration 158, loss = 0.00380732\n",
      "Iteration 159, loss = 0.00382199\n",
      "Iteration 160, loss = 0.00366019\n",
      "Iteration 161, loss = 0.00349955\n",
      "Iteration 162, loss = 0.00345779\n",
      "Iteration 163, loss = 0.00351014\n",
      "Iteration 164, loss = 0.00338177\n",
      "Iteration 165, loss = 0.00346150\n",
      "Iteration 166, loss = 0.00335301\n",
      "Iteration 167, loss = 0.00291652\n",
      "Iteration 168, loss = 0.00310097\n",
      "Iteration 169, loss = 0.00286765\n",
      "Iteration 170, loss = 0.00299334\n",
      "Iteration 171, loss = 0.00269728\n",
      "Iteration 172, loss = 0.00265012\n",
      "Iteration 173, loss = 0.00242197\n",
      "Iteration 174, loss = 0.00231402\n",
      "Iteration 175, loss = 0.00226027\n",
      "Iteration 176, loss = 0.00227393\n",
      "Iteration 177, loss = 0.00218689\n",
      "Iteration 178, loss = 0.00211395\n",
      "Iteration 179, loss = 0.00211150\n",
      "Iteration 180, loss = 0.00204940\n",
      "Iteration 181, loss = 0.00197415\n",
      "Iteration 182, loss = 0.00191654\n",
      "Iteration 183, loss = 0.00192569\n",
      "Iteration 184, loss = 0.00180125\n",
      "Iteration 185, loss = 0.00176623\n",
      "Iteration 186, loss = 0.00168519\n",
      "Iteration 187, loss = 0.00160323\n",
      "Iteration 188, loss = 0.00160936\n",
      "Iteration 189, loss = 0.00154954\n",
      "Iteration 190, loss = 0.00149989\n",
      "Iteration 191, loss = 0.00165651\n",
      "Iteration 192, loss = 0.00146780\n",
      "Iteration 193, loss = 0.00150079\n",
      "Iteration 194, loss = 0.00135226\n",
      "Iteration 195, loss = 0.00132556\n",
      "Iteration 196, loss = 0.00139287\n",
      "Iteration 197, loss = 0.00124264\n",
      "Iteration 198, loss = 0.00130500\n",
      "Iteration 199, loss = 0.00118039\n",
      "Iteration 200, loss = 0.00123540\n",
      "Iteration 201, loss = 0.00122169\n",
      "Iteration 202, loss = 0.00112477\n",
      "Iteration 203, loss = 0.00109999\n",
      "Iteration 204, loss = 0.00108240\n",
      "Iteration 205, loss = 0.00104710\n",
      "Training loss did not improve more than tol=0.000100 for 10 consecutive epochs. Stopping.\n",
      "[[1.00000000e+00 1.19168179e-26]\n",
      " [1.00000000e+00 3.33016077e-14]\n",
      " [9.99999999e-01 7.90550264e-10]\n",
      " [1.00000000e+00 1.32309747e-12]\n",
      " [1.48868362e-09 9.99999999e-01]\n",
      " [9.99998457e-01 1.54322279e-06]] [0 0 0 0 1 0]\n",
      "\n",
      "MLP - Classification report:\n",
      "               precision    recall  f1-score   support\n",
      "\n",
      "         0.0       0.92      0.96      0.94       406\n",
      "         1.0       0.35      0.20      0.26        44\n",
      "\n",
      "    accuracy                           0.88       450\n",
      "   macro avg       0.63      0.58      0.60       450\n",
      "weighted avg       0.86      0.88      0.87       450\n",
      "\n"
     ]
    },
    {
     "data": {
      "image/png": "[encoded data removed]",
      "text/plain": [
       "<Figure size 800x400 with 2 Axes>"
      ]
     },
     "metadata": {},
     "output_type": "display_data"
    },
    {
     "data": {
      "image/png": "[encoded data removed]",
      "text/plain": [
       "<Figure size 800x400 with 2 Axes>"
      ]
     },
     "metadata": {},
     "output_type": "display_data"
    }
   ],
   "source": [
    "from sklearn.metrics import classification_report\n",
    "from sklearn.metrics import accuracy_score\n",
    "from sklearn.metrics import plot_confusion_matrix\n",
    "from sklearn.neural_network import MLPClassifier\n",
    "\n",
    "# initialize model\n",
    "mlp = MLPClassifier(hidden_layer_sizes=(10,10,10), max_iter=1000, verbose=1)\n",
    "\n",
    "# train model\n",
    "mlp.fit(x_train, y_train)\n",
    "\n",
    "# Predict\n",
    "y_pred = mlp.predict(x_test)\n",
    "\n",
    "print(mlp.predict_proba(x_test)[:6], mlp.predict_proba(x_test)[:6].argmax(axis=1))\n",
    "\n",
    "from matplotlib import rc_file_defaults\n",
    "rc_file_defaults()\n",
    "\n",
    "fig, ax = plt.subplots(1, 1, figsize=(8, 4))\n",
    "\n",
    "print(\"\\nMLP - Classification report:\\n\", classification_report(y_test, y_pred))\n",
    "\n",
    "plot_confusion_matrix(mlp, x_test, y_test, cmap=plt.cm.Blues, ax=ax)\n",
    "_ = ax.set_title('mlp')\n",
    "\n",
    "\n",
    "fig, ax = plt.subplots(1, 1, figsize=(8, 4))\n",
    "\n",
    "plot_confusion_matrix(mlp, x_test, y_test, normalize = 'true', cmap=plt.cm.Blues, ax=ax)\n",
    "_ = ax.set_title('mlp')"
   ]
  },
  {
   "cell_type": "markdown",
   "metadata": {
    "id": "lBkWn4WXA-QS"
   },
   "source": [
    "Sensitivity (true positive rate: percent of movies classified as SF out of all SF movies): 2%\n",
    "\n",
    "Specificity (true negative rate: percent of movies classified as not SF out of all movies that are not SF): 96%\n",
    "\n",
    "Overall the model is not that good at predicting if a movie is science fiction, but is pretty good at indicating if a movie is not science fiction.\n",
    "\n",
    "(*Note that the sensitivity and specificity will vary upon each run of the script due to differences in training/testing data splits*)"
   ]
  },
  {
   "cell_type": "markdown",
   "metadata": {
    "id": "oP8IaWa9A-QS"
   },
   "source": [
    "## Part 5: Prediction with less leakage (5 points)"
   ]
  },
  {
   "cell_type": "markdown",
   "metadata": {
    "id": "ZKIGA3BOA-QS"
   },
   "source": [
    "From Wikipedia, [data leakage](https://en.wikipedia.org/wiki/Leakage_(machine_learning)) is the use of information in the model training process which would not be expected to be available at prediction time, causing the predictive scores (metrics) to overestimate the model's utility when run in a production environment.\n",
    "\n",
    "Feature or column-wise leakage is caused by the inclusion of columns which are one of the following: a duplicate label, a proxy for the label, or the label itself\n",
    "\n",
    "Considering we're doing binary classification of whether a movie is science fiction, identify the most prominent cause of feature leakage among the features added during Exercise 3. \n",
    "\n",
    "1) **Argue** for your choice, 2) train a classifier not subject to this feature leakage (it's OK to create a new train/test split) and 3) **report the results** as you did in Part 4."
   ]
  },
  {
   "cell_type": "markdown",
   "metadata": {
    "id": "Mb7FTGgTA-QS"
   },
   "source": [
    "1) We will remove any columns that contain genre information as these columns could be a proxy for a Science Fiction genre. It is also likely that if we do not know whether the movie is a science fiction movie at the time of prediction, we will likely not have information about other genres that the movie can be classified as. \n",
    "\n",
    "Thus to prevent data leakage we think that removing any genre information will lead to better predictions at the time of prediction."
   ]
  },
  {
   "cell_type": "code",
   "execution_count": 50,
   "metadata": {
    "ExecuteTime": {
     "end_time": "2021-09-27T14:01:15.648444Z",
     "start_time": "2021-09-27T14:01:15.643363Z"
    },
    "id": "9CzDjF_pA-QS"
   },
   "outputs": [
    {
     "name": "stdout",
     "output_type": "stream",
     "text": [
      "(2548, 160) (2548,)\n",
      "(450, 160) (450,)\n",
      "Iteration 1, loss = 0.59372575\n",
      "Iteration 2, loss = 0.51032217\n",
      "Iteration 3, loss = 0.43388306\n",
      "Iteration 4, loss = 0.37367265\n",
      "Iteration 5, loss = 0.33164827\n",
      "Iteration 6, loss = 0.30546835\n",
      "Iteration 7, loss = 0.28986394\n",
      "Iteration 8, loss = 0.27843671\n",
      "Iteration 9, loss = 0.26878745\n",
      "Iteration 10, loss = 0.26059398\n",
      "Iteration 11, loss = 0.25332697\n",
      "Iteration 12, loss = 0.24665678\n",
      "Iteration 13, loss = 0.24065803\n",
      "Iteration 14, loss = 0.23513109\n",
      "Iteration 15, loss = 0.22985201\n",
      "Iteration 16, loss = 0.22469135\n",
      "Iteration 17, loss = 0.22028295\n",
      "Iteration 18, loss = 0.21571708\n",
      "Iteration 19, loss = 0.21134239\n",
      "Iteration 20, loss = 0.20744736\n",
      "Iteration 21, loss = 0.20334578\n",
      "Iteration 22, loss = 0.19937577\n",
      "Iteration 23, loss = 0.19580969\n",
      "Iteration 24, loss = 0.19216870\n",
      "Iteration 25, loss = 0.18867820\n",
      "Iteration 26, loss = 0.18514273\n",
      "Iteration 27, loss = 0.18170990\n",
      "Iteration 28, loss = 0.17865172\n",
      "Iteration 29, loss = 0.17549458\n",
      "Iteration 30, loss = 0.17234937\n",
      "Iteration 31, loss = 0.16912986\n",
      "Iteration 32, loss = 0.16614309\n",
      "Iteration 33, loss = 0.16322580\n",
      "Iteration 34, loss = 0.15996437\n",
      "Iteration 35, loss = 0.15672559\n",
      "Iteration 36, loss = 0.15351849\n",
      "Iteration 37, loss = 0.15031473\n",
      "Iteration 38, loss = 0.14719609\n",
      "Iteration 39, loss = 0.14363087\n",
      "Iteration 40, loss = 0.14051287\n",
      "Iteration 41, loss = 0.13766060\n",
      "Iteration 42, loss = 0.13381255\n",
      "Iteration 43, loss = 0.13006592\n",
      "Iteration 44, loss = 0.12630792\n",
      "Iteration 45, loss = 0.12279114\n",
      "Iteration 46, loss = 0.11939763\n",
      "Iteration 47, loss = 0.11585748\n",
      "Iteration 48, loss = 0.11285438\n",
      "Iteration 49, loss = 0.11016594\n",
      "Iteration 50, loss = 0.10756354\n",
      "Iteration 51, loss = 0.10441394\n",
      "Iteration 52, loss = 0.10217044\n",
      "Iteration 53, loss = 0.09952611\n",
      "Iteration 54, loss = 0.09839640\n",
      "Iteration 55, loss = 0.09605800\n",
      "Iteration 56, loss = 0.09306372\n",
      "Iteration 57, loss = 0.09107407\n",
      "Iteration 58, loss = 0.08907423\n",
      "Iteration 59, loss = 0.08717993\n",
      "Iteration 60, loss = 0.08560751\n",
      "Iteration 61, loss = 0.08450656\n",
      "Iteration 62, loss = 0.08289974\n",
      "Iteration 63, loss = 0.08168612\n",
      "Iteration 64, loss = 0.08057963\n",
      "Iteration 65, loss = 0.07884753\n",
      "Iteration 66, loss = 0.07757156\n",
      "Iteration 67, loss = 0.07600053\n",
      "Iteration 68, loss = 0.07531947\n",
      "Iteration 69, loss = 0.07379929\n",
      "Iteration 70, loss = 0.07420951\n",
      "Iteration 71, loss = 0.07246377\n",
      "Iteration 72, loss = 0.07088617\n",
      "Iteration 73, loss = 0.07064686\n",
      "Iteration 74, loss = 0.06957969\n",
      "Iteration 75, loss = 0.06963032\n",
      "Iteration 76, loss = 0.07064611\n",
      "Iteration 77, loss = 0.06890986\n",
      "Iteration 78, loss = 0.06879829\n",
      "Iteration 79, loss = 0.06914146\n",
      "Iteration 80, loss = 0.06681636\n",
      "Iteration 81, loss = 0.06767480\n",
      "Iteration 82, loss = 0.06533312\n",
      "Iteration 83, loss = 0.06631904\n",
      "Iteration 84, loss = 0.06400736\n",
      "Iteration 85, loss = 0.06284755\n",
      "Iteration 86, loss = 0.06484587\n",
      "Iteration 87, loss = 0.06236701\n",
      "Iteration 88, loss = 0.06139333\n",
      "Iteration 89, loss = 0.06075747\n",
      "Iteration 90, loss = 0.06084150\n",
      "Iteration 91, loss = 0.06119043\n",
      "Iteration 92, loss = 0.06003237\n",
      "Iteration 93, loss = 0.06031954\n",
      "Iteration 94, loss = 0.05912358\n",
      "Iteration 95, loss = 0.05903327\n",
      "Iteration 96, loss = 0.06050720\n",
      "Iteration 97, loss = 0.05883333\n",
      "Iteration 98, loss = 0.05892648\n",
      "Iteration 99, loss = 0.05735726\n",
      "Iteration 100, loss = 0.05635457\n",
      "Iteration 101, loss = 0.05669584\n",
      "Iteration 102, loss = 0.05630273\n",
      "Iteration 103, loss = 0.05601190\n",
      "Iteration 104, loss = 0.05510363\n",
      "Iteration 105, loss = 0.05474518\n",
      "Iteration 106, loss = 0.05427957\n",
      "Iteration 107, loss = 0.05424581\n",
      "Iteration 108, loss = 0.05599773\n",
      "Iteration 109, loss = 0.05596117\n",
      "Iteration 110, loss = 0.05420809\n",
      "Iteration 111, loss = 0.05315050\n",
      "Iteration 112, loss = 0.05283380\n",
      "Iteration 113, loss = 0.05237379\n",
      "Iteration 114, loss = 0.05207210\n",
      "Iteration 115, loss = 0.05184770\n",
      "Iteration 116, loss = 0.05137580\n",
      "Iteration 117, loss = 0.05189979\n",
      "Iteration 118, loss = 0.05091485\n",
      "Iteration 119, loss = 0.05195629\n",
      "Iteration 120, loss = 0.05039721\n",
      "Iteration 121, loss = 0.05108779\n",
      "Iteration 122, loss = 0.05140077\n",
      "Iteration 123, loss = 0.05002103\n",
      "Iteration 124, loss = 0.05008819\n",
      "Iteration 125, loss = 0.05000251\n",
      "Iteration 126, loss = 0.05187282\n",
      "Iteration 127, loss = 0.05154908\n",
      "Iteration 128, loss = 0.04870776\n",
      "Iteration 129, loss = 0.04909980\n",
      "Iteration 130, loss = 0.04948954\n",
      "Iteration 131, loss = 0.05070752\n",
      "Iteration 132, loss = 0.04820874\n",
      "Iteration 133, loss = 0.04805134\n",
      "Iteration 134, loss = 0.04829633\n",
      "Iteration 135, loss = 0.04786411\n",
      "Iteration 136, loss = 0.04720719\n",
      "Iteration 137, loss = 0.04747717\n",
      "Iteration 138, loss = 0.04755967\n",
      "Iteration 139, loss = 0.04724230\n",
      "Iteration 140, loss = 0.04862046\n",
      "Iteration 141, loss = 0.04870491\n",
      "Iteration 142, loss = 0.04932657\n",
      "Iteration 143, loss = 0.04740466\n",
      "Iteration 144, loss = 0.04651045\n",
      "Iteration 145, loss = 0.04580518\n",
      "Iteration 146, loss = 0.04581841\n",
      "Iteration 147, loss = 0.04566611\n",
      "Iteration 148, loss = 0.04514507\n",
      "Iteration 149, loss = 0.04561000\n",
      "Iteration 150, loss = 0.04454847\n",
      "Iteration 151, loss = 0.04454156\n",
      "Iteration 152, loss = 0.04426804\n",
      "Iteration 153, loss = 0.04544799\n",
      "Iteration 154, loss = 0.04481959\n",
      "Iteration 155, loss = 0.04506624\n",
      "Iteration 156, loss = 0.04385389\n",
      "Iteration 157, loss = 0.04425329\n",
      "Iteration 158, loss = 0.04433505\n",
      "Iteration 159, loss = 0.04284952\n",
      "Iteration 160, loss = 0.04347157\n",
      "Iteration 161, loss = 0.04323389\n",
      "Iteration 162, loss = 0.04234893\n",
      "Iteration 163, loss = 0.04254365\n",
      "Iteration 164, loss = 0.04263745\n",
      "Iteration 165, loss = 0.04218837\n",
      "Iteration 166, loss = 0.04216821\n",
      "Iteration 167, loss = 0.04199720\n",
      "Iteration 168, loss = 0.04226380\n",
      "Iteration 169, loss = 0.04282565\n",
      "Iteration 170, loss = 0.04167696\n",
      "Iteration 171, loss = 0.04152088\n",
      "Iteration 172, loss = 0.04026433\n",
      "Iteration 173, loss = 0.04085654\n",
      "Iteration 174, loss = 0.04110593\n",
      "Iteration 175, loss = 0.04154264\n",
      "Iteration 176, loss = 0.04082995\n",
      "Iteration 177, loss = 0.04057130\n",
      "Iteration 178, loss = 0.04139343\n",
      "Iteration 179, loss = 0.04006422\n",
      "Iteration 180, loss = 0.04112256\n",
      "Iteration 181, loss = 0.03960793\n",
      "Iteration 182, loss = 0.03972043\n",
      "Iteration 183, loss = 0.04007900\n",
      "Iteration 184, loss = 0.03974454\n",
      "Iteration 185, loss = 0.03923166\n",
      "Iteration 186, loss = 0.03915164\n",
      "Iteration 187, loss = 0.03962885\n",
      "Iteration 188, loss = 0.04001203\n",
      "Iteration 189, loss = 0.03831966\n",
      "Iteration 190, loss = 0.03822852\n",
      "Iteration 191, loss = 0.03892523\n",
      "Iteration 192, loss = 0.03832650\n",
      "Iteration 193, loss = 0.03720970\n",
      "Iteration 194, loss = 0.03787472\n",
      "Iteration 195, loss = 0.03783218\n",
      "Iteration 196, loss = 0.03752701\n",
      "Iteration 197, loss = 0.03726799\n",
      "Iteration 198, loss = 0.03765223\n",
      "Iteration 199, loss = 0.03819048\n",
      "Iteration 200, loss = 0.03757895\n",
      "Iteration 201, loss = 0.03855980\n",
      "Iteration 202, loss = 0.03759312\n",
      "Iteration 203, loss = 0.03823572\n",
      "Iteration 204, loss = 0.03790549\n",
      "Training loss did not improve more than tol=0.000100 for 10 consecutive epochs. Stopping.\n",
      "[[1.00000000e+00 2.91611107e-13]\n",
      " [1.00000000e+00 9.96640804e-12]\n",
      " [7.03321179e-09 9.99999993e-01]\n",
      " [9.99999208e-01 7.92220865e-07]\n",
      " [7.61911168e-04 9.99238089e-01]\n",
      " [3.83661727e-02 9.61633827e-01]] [0 0 1 0 1 1]\n",
      "\n",
      "MLP - Classification report:\n",
      "               precision    recall  f1-score   support\n",
      "\n",
      "         0.0       0.92      0.93      0.92       406\n",
      "         1.0       0.24      0.20      0.22        44\n",
      "\n",
      "    accuracy                           0.86       450\n",
      "   macro avg       0.58      0.57      0.57       450\n",
      "weighted avg       0.85      0.86      0.85       450\n",
      "\n"
     ]
    },
    {
     "data": {
      "image/png": "[encoded data removed]",
      "text/plain": [
       "<Figure size 800x400 with 2 Axes>"
      ]
     },
     "metadata": {},
     "output_type": "display_data"
    },
    {
     "data": {
      "image/png": "[encoded data removed]",
      "text/plain": [
       "<Figure size 800x400 with 2 Axes>"
      ]
     },
     "metadata": {},
     "output_type": "display_data"
    }
   ],
   "source": [
    "# list of genres to remove from data\n",
    "leakage_to_remove = ['genres_Comedy',\n",
    "       'genres_Drama', 'genres_Family', 'genres_Romance',\n",
    "       'genres_Thriller', 'genres_Action', 'genres_Science Fiction','genres_Animation',\n",
    "       'genres_Adventure', 'genres_Horror', 'genres_Documentary',\n",
    "       'genres_Music', 'genres_Crime',\n",
    "       'genres_Mystery', 'genres_Foreign', 'genres_Fantasy', 'genres_War',\n",
    "       'genres_Western', 'genres_History', 'genres_TV Movie']\n",
    "\n",
    "# reformat the x data to drop any labels with genre\n",
    "x_data = train.drop(labels = leakage_to_remove, axis = 1)\n",
    "y_data = train['genres_Science Fiction']\n",
    "\n",
    "# create new split\n",
    "x_train, x_test, y_train, y_test = train_test_split(x_data, y_data, test_size=0.15, random_state=1)\n",
    "\n",
    "# Change to floats\n",
    "x_train = np.array(x_train).astype(np.float64)\n",
    "x_test  = np.array(x_test).astype(np.float64)\n",
    "y_train = np.array(y_train).astype(np.float64)\n",
    "y_test  = np.array(y_test).astype(np.float64)\n",
    "\n",
    "# Scale\n",
    "scaler = StandardScaler()  \n",
    "scaler.fit(x_train)  \n",
    "x_train = scaler.transform(x_train) \n",
    "x_test = scaler.transform(x_test)\n",
    "\n",
    "# Check shape\n",
    "print(x_train.shape, y_train.shape)\n",
    "print(x_test.shape, y_test.shape)\n",
    "\n",
    "# initialize model\n",
    "mlp = MLPClassifier(hidden_layer_sizes=(10,10,10), max_iter=1000, verbose=1)\n",
    "\n",
    "# train model\n",
    "mlp.fit(x_train, y_train)\n",
    "\n",
    "# Predict\n",
    "y_pred = mlp.predict(x_test)\n",
    "\n",
    "print(mlp.predict_proba(x_test)[:6], mlp.predict_proba(x_test)[:6].argmax(axis=1))\n",
    "\n",
    "from matplotlib import rc_file_defaults\n",
    "rc_file_defaults()\n",
    "\n",
    "fig, ax = plt.subplots(1, 1, figsize=(8, 4))\n",
    "\n",
    "print(\"\\nMLP - Classification report:\\n\", classification_report(y_test, y_pred))\n",
    "\n",
    "plot_confusion_matrix(mlp, x_test, y_test, cmap=plt.cm.Blues, ax=ax)\n",
    "_ = ax.set_title('mlp')\n",
    "\n",
    "\n",
    "fig, ax = plt.subplots(1, 1, figsize=(8, 4))\n",
    "\n",
    "plot_confusion_matrix(mlp, x_test, y_test, normalize = 'true', cmap=plt.cm.Blues, ax=ax)\n",
    "_ = ax.set_title('mlp')"
   ]
  },
  {
   "cell_type": "markdown",
   "metadata": {},
   "source": [
    "Sensitivity (true positive rate: percent of movies classified as SF out of all SF movies): 20%\n",
    "\n",
    "Specificity (true negative rate: percent of movies classified as not SF out of all movies that are not SF): 93%\n",
    "\n",
    "We have similar results to the previous model, indicating that we do not actually need the genre data and can make similar predictions without this data at the time of prediciton.\n",
    "\n",
    "(*Note that the sensitivity and specificity will vary upon each run of the script due to differences in training/testing data splits*)"
   ]
  },
  {
   "cell_type": "markdown",
   "metadata": {
    "id": "hc4EOB-gb5pp"
   },
   "source": [
    "# Exercise 4: Basic movie recommendation system (20 points)"
   ]
  },
  {
   "cell_type": "markdown",
   "metadata": {
    "id": "7PqirpLgVdN0"
   },
   "source": [
    "In this exercise, you'll build a simple movie recommendation system.  The system will take a movie as input and recommend a list of similar movies. In order to recommend similar movies, you will use the correlation between the ratings of movies as a similarity metric. We'll use Pearson's correlation. \n",
    " \n",
    "The data for this exercise is available in the following URLs. It contains basic info about movies, as well as ratings provided by several users."
   ]
  },
  {
   "cell_type": "code",
   "execution_count": 51,
   "metadata": {
    "ExecuteTime": {
     "end_time": "2021-09-27T14:49:08.552678Z",
     "start_time": "2021-09-27T14:49:08.547286Z"
    },
    "id": "HOHERjo8cLQo"
   },
   "outputs": [],
   "source": [
    "url1 = 'http://courses.compute.dtu.dk/02807/2021/projects/project1/ratings.csv'\n",
    "url2 = 'http://courses.compute.dtu.dk/02807/2021/projects/project1/movies.csv'"
   ]
  },
  {
   "cell_type": "markdown",
   "metadata": {
    "id": "YOXKd22xXgo2"
   },
   "source": [
    "## Part 1: Preparing the ratings data (10 pts)"
   ]
  },
  {
   "cell_type": "markdown",
   "metadata": {
    "id": "Isn8M65HXi3i"
   },
   "source": [
    "Read the data from these two URLs, and create a single dataframe from them, with the following columns:\n",
    "\n",
    "| userId | movieId | rating | timestamp | title | genres |\n",
    "|--------|---------|--------|-----------|-------|--------|\n",
    "|        |         |        |           |       |        |\n",
    "\n",
    "Call the dataframe `movie_data`."
   ]
  },
  {
   "cell_type": "code",
   "execution_count": 52,
   "metadata": {
    "id": "GwhdEsGUn1zz"
   },
   "outputs": [],
   "source": [
    "urls = [url1, url2]\n",
    "df1 = pd.read_csv(url1) # print(len(df1)) = 100836\n",
    "df2 = pd.read_csv(url2) # print(len(df2)) = 9742\n",
    "movie_data = pd.merge(df1, df2, how=\"left\") # left join. keep only movies which a user has rated. "
   ]
  },
  {
   "cell_type": "code",
   "execution_count": 53,
   "metadata": {
    "id": "SAAAD17h_gBK"
   },
   "outputs": [
    {
     "data": {
      "text/html": [
       "<div>\n",
       "<style scoped>\n",
       "    .dataframe tbody tr th:only-of-type {\n",
       "        vertical-align: middle;\n",
       "    }\n",
       "\n",
       "    .dataframe tbody tr th {\n",
       "        vertical-align: top;\n",
       "    }\n",
       "\n",
       "    .dataframe thead th {\n",
       "        text-align: right;\n",
       "    }\n",
       "</style>\n",
       "<table border=\"1\" class=\"dataframe\">\n",
       "  <thead>\n",
       "    <tr style=\"text-align: right;\">\n",
       "      <th></th>\n",
       "      <th>userId</th>\n",
       "      <th>movieId</th>\n",
       "      <th>rating</th>\n",
       "      <th>timestamp</th>\n",
       "      <th>title</th>\n",
       "      <th>genres</th>\n",
       "    </tr>\n",
       "  </thead>\n",
       "  <tbody>\n",
       "  </tbody>\n",
       "</table>\n",
       "</div>"
      ],
      "text/plain": [
       "Empty DataFrame\n",
       "Columns: [userId, movieId, rating, timestamp, title, genres]\n",
       "Index: []"
      ]
     },
     "execution_count": 53,
     "metadata": {},
     "output_type": "execute_result"
    }
   ],
   "source": [
    "movie_data.head(0)"
   ]
  },
  {
   "cell_type": "markdown",
   "metadata": {
    "id": "MFGc9VSzadHi"
   },
   "source": [
    "To find the correlation between the ratings of movies, create a dataframe where each column is a movie name and each row contains the rating assigned by a specific user to that movie. \n",
    "\n",
    "You'll notice that this dataframe has many NaN values, since each movie is not rated by every user. Call the dataframe `user_ratings`."
   ]
  },
  {
   "cell_type": "code",
   "execution_count": 54,
   "metadata": {
    "id": "eTrrVPsrfn1Q"
   },
   "outputs": [],
   "source": [
    "# coloumn = movie title, Row = user rating. \n",
    "user_ratings = movie_data.pivot_table(index='userId', columns='title', values='rating')"
   ]
  },
  {
   "cell_type": "markdown",
   "metadata": {
    "id": "hy61Luqyu2Te"
   },
   "source": [
    "## Part 2: Finding the most similar movies (10 pts)"
   ]
  },
  {
   "cell_type": "markdown",
   "metadata": {
    "id": "M7FBDshDd1j7"
   },
   "source": [
    "Each column contains all the user ratings for a particular movie. Let's take the user ratings for the movie Toy Story."
   ]
  },
  {
   "cell_type": "code",
   "execution_count": 55,
   "metadata": {
    "id": "6e-9WXAro_4-"
   },
   "outputs": [
    {
     "data": {
      "text/plain": [
       "userId\n",
       "1      4.0\n",
       "2      NaN\n",
       "3      NaN\n",
       "4      NaN\n",
       "5      4.0\n",
       "      ... \n",
       "606    2.5\n",
       "607    4.0\n",
       "608    2.5\n",
       "609    3.0\n",
       "610    5.0\n",
       "Name: Toy Story (1995), Length: 610, dtype: float64"
      ]
     },
     "execution_count": 55,
     "metadata": {},
     "output_type": "execute_result"
    }
   ],
   "source": [
    "toystory_ratings = user_ratings['Toy Story (1995)']\n",
    "toystory_ratings"
   ]
  },
  {
   "cell_type": "markdown",
   "metadata": {
    "id": "fljIQkJmpCJD"
   },
   "source": [
    "Next, find the correlation between the user ratings for Toy Story and the user ratings of all other movies. \n",
    " \n",
    "More specifically, create a dataframe that contains two columns, called `title` and `Correlation`. Each row should contain a movie title $x$, followed by the pairwise correlation between the column of ratings for Toy Story and the column of ratings for $x$.  Drop any rows with null values, and display the resulting dataframe.\n",
    " \n",
    "Use built-in functions to compute correlations and avoid explicit loops."
   ]
  },
  {
   "cell_type": "code",
   "execution_count": 56,
   "metadata": {
    "id": "_yuX1U0Xh0nk"
   },
   "outputs": [
    {
     "name": "stderr",
     "output_type": "stream",
     "text": [
      "/Users/connorchewning/opt/anaconda3/lib/python3.8/site-packages/numpy/lib/function_base.py:2683: RuntimeWarning: Degrees of freedom <= 0 for slice\n",
      "  c = cov(x, y, rowvar, dtype=dtype)\n",
      "/Users/connorchewning/opt/anaconda3/lib/python3.8/site-packages/numpy/lib/function_base.py:2542: RuntimeWarning: divide by zero encountered in true_divide\n",
      "  c *= np.true_divide(1, fact)\n"
     ]
    },
    {
     "data": {
      "text/html": [
       "<div>\n",
       "<style scoped>\n",
       "    .dataframe tbody tr th:only-of-type {\n",
       "        vertical-align: middle;\n",
       "    }\n",
       "\n",
       "    .dataframe tbody tr th {\n",
       "        vertical-align: top;\n",
       "    }\n",
       "\n",
       "    .dataframe thead th {\n",
       "        text-align: right;\n",
       "    }\n",
       "</style>\n",
       "<table border=\"1\" class=\"dataframe\">\n",
       "  <thead>\n",
       "    <tr style=\"text-align: right;\">\n",
       "      <th></th>\n",
       "      <th>title</th>\n",
       "      <th>Correlation</th>\n",
       "    </tr>\n",
       "  </thead>\n",
       "  <tbody>\n",
       "    <tr>\n",
       "      <th>6</th>\n",
       "      <td>'burbs, The (1989)</td>\n",
       "      <td>0.240563</td>\n",
       "    </tr>\n",
       "    <tr>\n",
       "      <th>8</th>\n",
       "      <td>(500) Days of Summer (2009)</td>\n",
       "      <td>0.353833</td>\n",
       "    </tr>\n",
       "    <tr>\n",
       "      <th>9</th>\n",
       "      <td>*batteries not included (1987)</td>\n",
       "      <td>-0.427425</td>\n",
       "    </tr>\n",
       "    <tr>\n",
       "      <th>15</th>\n",
       "      <td>10 Cent Pistol (2015)</td>\n",
       "      <td>1.000000</td>\n",
       "    </tr>\n",
       "    <tr>\n",
       "      <th>16</th>\n",
       "      <td>10 Cloverfield Lane (2016)</td>\n",
       "      <td>-0.285732</td>\n",
       "    </tr>\n",
       "    <tr>\n",
       "      <th>...</th>\n",
       "      <td>...</td>\n",
       "      <td>...</td>\n",
       "    </tr>\n",
       "    <tr>\n",
       "      <th>9710</th>\n",
       "      <td>[REC] (2007)</td>\n",
       "      <td>0.129185</td>\n",
       "    </tr>\n",
       "    <tr>\n",
       "      <th>9714</th>\n",
       "      <td>eXistenZ (1999)</td>\n",
       "      <td>0.333282</td>\n",
       "    </tr>\n",
       "    <tr>\n",
       "      <th>9715</th>\n",
       "      <td>xXx (2002)</td>\n",
       "      <td>-0.244733</td>\n",
       "    </tr>\n",
       "    <tr>\n",
       "      <th>9716</th>\n",
       "      <td>xXx: State of the Union (2005)</td>\n",
       "      <td>0.129969</td>\n",
       "    </tr>\n",
       "    <tr>\n",
       "      <th>9717</th>\n",
       "      <td>¡Three Amigos! (1986)</td>\n",
       "      <td>-0.387202</td>\n",
       "    </tr>\n",
       "  </tbody>\n",
       "</table>\n",
       "<p>4767 rows × 2 columns</p>\n",
       "</div>"
      ],
      "text/plain": [
       "                               title  Correlation\n",
       "6                 'burbs, The (1989)     0.240563\n",
       "8        (500) Days of Summer (2009)     0.353833\n",
       "9     *batteries not included (1987)    -0.427425\n",
       "15             10 Cent Pistol (2015)     1.000000\n",
       "16        10 Cloverfield Lane (2016)    -0.285732\n",
       "...                              ...          ...\n",
       "9710                    [REC] (2007)     0.129185\n",
       "9714                 eXistenZ (1999)     0.333282\n",
       "9715                      xXx (2002)    -0.244733\n",
       "9716  xXx: State of the Union (2005)     0.129969\n",
       "9717           ¡Three Amigos! (1986)    -0.387202\n",
       "\n",
       "[4767 rows x 2 columns]"
      ]
     },
     "execution_count": 56,
     "metadata": {},
     "output_type": "execute_result"
    }
   ],
   "source": [
    "# couloumns = [title, correlation with toystory]\n",
    "corrwith_toystory_series = user_ratings.corrwith(toystory_ratings, method='pearson', axis=0)\n",
    "corrwith_toystory = pd.DataFrame({'title':corrwith_toystory_series.index, 'Correlation':corrwith_toystory_series.values}).dropna()\n",
    "corrwith_toystory"
   ]
  },
  {
   "cell_type": "markdown",
   "metadata": {
    "id": "aji7cUw-r-JG"
   },
   "source": [
    "Sort the movies by descending order of correlation to find out highly correlated movies at the top. Display the 5 most highly correlated movies.\n"
   ]
  },
  {
   "cell_type": "code",
   "execution_count": 57,
   "metadata": {
    "id": "FU0Zm9fjg4BD"
   },
   "outputs": [
    {
     "data": {
      "text/html": [
       "<div>\n",
       "<style scoped>\n",
       "    .dataframe tbody tr th:only-of-type {\n",
       "        vertical-align: middle;\n",
       "    }\n",
       "\n",
       "    .dataframe tbody tr th {\n",
       "        vertical-align: top;\n",
       "    }\n",
       "\n",
       "    .dataframe thead th {\n",
       "        text-align: right;\n",
       "    }\n",
       "</style>\n",
       "<table border=\"1\" class=\"dataframe\">\n",
       "  <thead>\n",
       "    <tr style=\"text-align: right;\">\n",
       "      <th></th>\n",
       "      <th>title</th>\n",
       "      <th>Correlation</th>\n",
       "    </tr>\n",
       "  </thead>\n",
       "  <tbody>\n",
       "    <tr>\n",
       "      <th>4892</th>\n",
       "      <td>Land Before Time III: The Time of the Great Gi...</td>\n",
       "      <td>1.0</td>\n",
       "    </tr>\n",
       "    <tr>\n",
       "      <th>2955</th>\n",
       "      <td>Faster Pussycat! Kill! Kill! (1965)</td>\n",
       "      <td>1.0</td>\n",
       "    </tr>\n",
       "    <tr>\n",
       "      <th>401</th>\n",
       "      <td>Amen. (2002)</td>\n",
       "      <td>1.0</td>\n",
       "    </tr>\n",
       "    <tr>\n",
       "      <th>5317</th>\n",
       "      <td>Machine Girl, The (Kataude mashin gâru) (2008)</td>\n",
       "      <td>1.0</td>\n",
       "    </tr>\n",
       "    <tr>\n",
       "      <th>9306</th>\n",
       "      <td>Waydowntown (2000)</td>\n",
       "      <td>1.0</td>\n",
       "    </tr>\n",
       "  </tbody>\n",
       "</table>\n",
       "</div>"
      ],
      "text/plain": [
       "                                                  title  Correlation\n",
       "4892  Land Before Time III: The Time of the Great Gi...          1.0\n",
       "2955                Faster Pussycat! Kill! Kill! (1965)          1.0\n",
       "401                                        Amen. (2002)          1.0\n",
       "5317     Machine Girl, The (Kataude mashin gâru) (2008)          1.0\n",
       "9306                                 Waydowntown (2000)          1.0"
      ]
     },
     "execution_count": 57,
     "metadata": {},
     "output_type": "execute_result"
    }
   ],
   "source": [
    "corrwith_toystory.sort_values(by='Correlation', ascending=False).head(5)"
   ]
  },
  {
   "cell_type": "markdown",
   "metadata": {
    "id": "qrvD_u63sVdD"
   },
   "source": [
    "If you computed correlations correctly, you will find that the recommended movies are not very well known. We can generate more popular recommendations by finding highly correlated movies that have a sensible number of ratings. \n",
    " \n",
    "Add a column to your correlation table, called `rating_counts`, which stores the number of ratings received by each movie."
   ]
  },
  {
   "cell_type": "code",
   "execution_count": 58,
   "metadata": {
    "id": "WvMKUmBFg-Ow"
   },
   "outputs": [],
   "source": [
    "# Get number of ratings from movie_data\n",
    "rating_counts = movie_data[['title', 'rating']].groupby(by='title').count() \n",
    "# Rename column to rating_counts\n",
    "rating_counts = rating_counts.rename(columns={\"rating\": \"rating_counts\"})\n",
    "# Merge with correlation dataframe\n",
    "corrwith_toystory = pd.merge(rating_counts, corrwith_toystory, \\\n",
    "            how=\"inner\", left_on='title' , right_on='title').dropna()"
   ]
  },
  {
   "cell_type": "markdown",
   "metadata": {
    "id": "b_20nfFvt-7y"
   },
   "source": [
    "Now find the 5 movies with the highest correlation with Toy Story, which have strictly more than 100 ratings. Display the result below. "
   ]
  },
  {
   "cell_type": "code",
   "execution_count": 59,
   "metadata": {
    "id": "KvE3c2lMhHNz"
   },
   "outputs": [
    {
     "data": {
      "text/html": [
       "<div>\n",
       "<style scoped>\n",
       "    .dataframe tbody tr th:only-of-type {\n",
       "        vertical-align: middle;\n",
       "    }\n",
       "\n",
       "    .dataframe tbody tr th {\n",
       "        vertical-align: top;\n",
       "    }\n",
       "\n",
       "    .dataframe thead th {\n",
       "        text-align: right;\n",
       "    }\n",
       "</style>\n",
       "<table border=\"1\" class=\"dataframe\">\n",
       "  <thead>\n",
       "    <tr style=\"text-align: right;\">\n",
       "      <th></th>\n",
       "      <th>title</th>\n",
       "      <th>rating_counts</th>\n",
       "      <th>Correlation</th>\n",
       "    </tr>\n",
       "  </thead>\n",
       "  <tbody>\n",
       "    <tr>\n",
       "      <th>4351</th>\n",
       "      <td>Toy Story (1995)</td>\n",
       "      <td>215</td>\n",
       "      <td>1.000000</td>\n",
       "    </tr>\n",
       "    <tr>\n",
       "      <th>2100</th>\n",
       "      <td>Incredibles, The (2004)</td>\n",
       "      <td>125</td>\n",
       "      <td>0.643301</td>\n",
       "    </tr>\n",
       "    <tr>\n",
       "      <th>1459</th>\n",
       "      <td>Finding Nemo (2003)</td>\n",
       "      <td>141</td>\n",
       "      <td>0.618701</td>\n",
       "    </tr>\n",
       "    <tr>\n",
       "      <th>135</th>\n",
       "      <td>Aladdin (1992)</td>\n",
       "      <td>183</td>\n",
       "      <td>0.611892</td>\n",
       "    </tr>\n",
       "    <tr>\n",
       "      <th>2826</th>\n",
       "      <td>Monsters, Inc. (2001)</td>\n",
       "      <td>132</td>\n",
       "      <td>0.490231</td>\n",
       "    </tr>\n",
       "  </tbody>\n",
       "</table>\n",
       "</div>"
      ],
      "text/plain": [
       "                        title  rating_counts  Correlation\n",
       "4351         Toy Story (1995)            215     1.000000\n",
       "2100  Incredibles, The (2004)            125     0.643301\n",
       "1459      Finding Nemo (2003)            141     0.618701\n",
       "135            Aladdin (1992)            183     0.611892\n",
       "2826    Monsters, Inc. (2001)            132     0.490231"
      ]
     },
     "execution_count": 59,
     "metadata": {},
     "output_type": "execute_result"
    }
   ],
   "source": [
    "thousand_votes = corrwith_toystory.rating_counts>100\n",
    "corrwith_toystory[thousand_votes].sort_values(by='Correlation', ascending=False).head(5)"
   ]
  }
 ],
 "metadata": {
  "colab": {
   "collapsed_sections": [],
   "name": "Working File 02807_Project_1.ipynb",
   "provenance": []
  },
  "kernelspec": {
   "display_name": "Python 3 (ipykernel)",
   "language": "python",
   "name": "python3"
  },
  "language_info": {
   "codemirror_mode": {
    "name": "ipython",
    "version": 3
   },
   "file_extension": ".py",
   "mimetype": "text/x-python",
   "name": "python",
   "nbconvert_exporter": "python",
   "pygments_lexer": "ipython3",
   "version": "3.8.2"
  },
  "toc": {
   "base_numbering": 1,
   "nav_menu": {},
   "number_sections": true,
   "sideBar": true,
   "skip_h1_title": false,
   "title_cell": "Table of Contents",
   "title_sidebar": "Contents",
   "toc_cell": false,
   "toc_position": {
    "height": "calc(100% - 180px)",
    "left": "10px",
    "top": "150px",
    "width": "362px"
   },
   "toc_section_display": true,
   "toc_window_display": true
  }
 },
 "nbformat": 4,
 "nbformat_minor": 1
}
